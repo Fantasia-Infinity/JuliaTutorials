{
 "cells": [
  {
   "cell_type": "markdown",
   "metadata": {},
   "source": [
    "# Julia 元编程"
   ]
  },
  {
   "cell_type": "markdown",
   "metadata": {},
   "source": [
    "## 惊吓引号"
   ]
  },
  {
   "cell_type": "markdown",
   "metadata": {},
   "source": [
    "Julia 支持*元编程*。这类似于符号编程，我们处理的是表达式（如 `$2+2$`），而不是值（如 `$4$`）。\n",
    "\n",
    "通常，Julia 将我们提供的所有代码视为一组指令，并执行它们。如果我们输入 `2+2`，它将忠实地将这些数字相加并给出结果。"
   ]
  },
  {
   "cell_type": "code",
   "execution_count": 545,
   "metadata": {},
   "outputs": [
    {
     "data": {
      "text/plain": [
       "4"
      ]
     },
     "metadata": {},
     "output_type": "display_data"
    }
   ],
   "source": [
    "2+2"
   ]
  },
  {
   "cell_type": "markdown",
   "metadata": {},
   "source": [
    "我们可以用引号来阻止这种情况发生。用 `\"` 将代码括起来，会将其视为纯粹的字符序列，而根本不将其视为代码。"
   ]
  },
  {
   "cell_type": "code",
   "execution_count": 546,
   "metadata": {},
   "outputs": [
    {
     "data": {
      "text/plain": [
       "\"2+2\""
      ]
     },
     "metadata": {},
     "output_type": "display_data"
    }
   ],
   "source": [
    "x = \"2+2\""
   ]
  },
  {
   "cell_type": "markdown",
   "metadata": {},
   "source": [
    "然后，我们可以明确地告诉 Julia 稍后对其进行求值。"
   ]
  },
  {
   "cell_type": "code",
   "execution_count": 547,
   "metadata": {},
   "outputs": [
    {
     "name": "stdout",
     "output_type": "stream",
     "text": [
      "(:call, :+, 2, 2)"
     ]
    }
   ],
   "source": [
    "eval(Meta.parse(x))\n",
    "\n",
    "ast = Meta.parse(x)\n",
    "# ast.args[1] = 3\n",
    "ast\n",
    "\n",
    "#s expresion\n",
    "Meta.show_sexpr(ast)"
   ]
  },
  {
   "cell_type": "markdown",
   "metadata": {},
   "source": [
    "为什么要用这种复杂的方式来做加法呢？诀窍在于，当我们拥有表达式 `2+2` 时，我们可以用各种有趣的方式修改它。举个简单的例子，想象一下用 `-` 替换 `+`。"
   ]
  },
  {
   "cell_type": "code",
   "execution_count": 548,
   "metadata": {},
   "outputs": [
    {
     "data": {
      "text/plain": [
       "\"2-2\""
      ]
     },
     "metadata": {},
     "output_type": "display_data"
    }
   ],
   "source": [
    "x = replace(x, \"+\"=>\"-\")"
   ]
  },
  {
   "cell_type": "code",
   "execution_count": 549,
   "metadata": {},
   "outputs": [
    {
     "data": {
      "text/plain": [
       "0"
      ]
     },
     "metadata": {},
     "output_type": "display_data"
    }
   ],
   "source": [
    "eval(Meta.parse(x))\n"
   ]
  },
  {
   "cell_type": "markdown",
   "metadata": {},
   "source": [
    "我们实际上不想在这里使用字符串；Julia 有一种更强大的引用代码的方式，即皱眉运算符 `:()`。"
   ]
  },
  {
   "cell_type": "code",
   "execution_count": 550,
   "metadata": {},
   "outputs": [
    {
     "data": {
      "text/plain": [
       ":(2 + 2)"
      ]
     },
     "metadata": {},
     "output_type": "display_data"
    }
   ],
   "source": [
    "x = :(2+2)"
   ]
  },
  {
   "cell_type": "code",
   "execution_count": 551,
   "metadata": {},
   "outputs": [
    {
     "data": {
      "text/plain": [
       "4"
      ]
     },
     "metadata": {},
     "output_type": "display_data"
    }
   ],
   "source": [
    "eval(x)"
   ]
  },
  {
   "cell_type": "markdown",
   "metadata": {},
   "source": [
    "我们可以引用更大的表达式，包括代码块和整个函数定义。关键字 `quote` 是 `begin` 的替代品，它返回被引用的代码块。\n",
    "\n",
    "在较大的代码块中，Julia 会保留行号信息，这些信息会以注释的形式出现。"
   ]
  },
  {
   "cell_type": "code",
   "execution_count": 552,
   "metadata": {},
   "outputs": [
    {
     "data": {
      "text/plain": [
       "quote\n",
       "    \u001b[90m#= /Users/shufanzhang/Documents/coderepos/JuliaTutorials/more-advanced-materials/metaprogramming/jl_notebook_cell_df34fa98e69747e1a8f8a730347b8e2f_X21sZmlsZQ==.jl:2 =#\u001b[39m\n",
       "    x = 2 + 2\n",
       "    \u001b[90m#= /Users/shufanzhang/Documents/coderepos/JuliaTutorials/more-advanced-materials/metaprogramming/jl_notebook_cell_df34fa98e69747e1a8f8a730347b8e2f_X21sZmlsZQ==.jl:3 =#\u001b[39m\n",
       "    hypot(x, 5)\n",
       "end"
      ]
     },
     "metadata": {},
     "output_type": "display_data"
    }
   ],
   "source": [
    "quote\n",
    "  x = 2 + 2\n",
    "  hypot(x, 5)\n",
    "end"
   ]
  },
  {
   "cell_type": "code",
   "execution_count": 553,
   "metadata": {},
   "outputs": [
    {
     "data": {
      "text/plain": [
       "quote\n",
       "    \u001b[90m#= /Users/shufanzhang/Documents/coderepos/JuliaTutorials/more-advanced-materials/metaprogramming/jl_notebook_cell_df34fa98e69747e1a8f8a730347b8e2f_Y241sZmlsZQ==.jl:2 =#\u001b[39m\n",
       "    function mysum(xs)\n",
       "        \u001b[90m#= /Users/shufanzhang/Documents/coderepos/JuliaTutorials/more-advanced-materials/metaprogramming/jl_notebook_cell_df34fa98e69747e1a8f8a730347b8e2f_Y241sZmlsZQ==.jl:2 =#\u001b[39m\n",
       "        \u001b[90m#= /Users/shufanzhang/Documents/coderepos/JuliaTutorials/more-advanced-materials/metaprogramming/jl_notebook_cell_df34fa98e69747e1a8f8a730347b8e2f_Y241sZmlsZQ==.jl:3 =#\u001b[39m\n",
       "        sum = 0\n",
       "        \u001b[90m#= /Users/shufanzhang/Documents/coderepos/JuliaTutorials/more-advanced-materials/metaprogramming/jl_notebook_cell_df34fa98e69747e1a8f8a730347b8e2f_Y241sZmlsZQ==.jl:4 =#\u001b[39m\n",
       "        for x = xs\n",
       "            \u001b[90m#= /Users/shufanzhang/Documents/coderepos/JuliaTutorials/more-advanced-materials/metaprogramming/jl_notebook_cell_df34fa98e69747e1a8f8a730347b8e2f_Y241sZmlsZQ==.jl:5 =#\u001b[39m\n",
       "            sum += x\n",
       "            \u001b[90m#= /Users/shufanzhang/Documents/coderepos/JuliaTutorials/more-advanced-materials/metaprogramming/jl_notebook_cell_df34fa98e69747e1a8f8a730347b8e2f_Y241sZmlsZQ==.jl:6 =#\u001b[39m\n",
       "        end\n",
       "        \u001b[90m#= /Users/shufanzhang/Documents/coderepos/JuliaTutorials/more-advanced-materials/metaprogramming/jl_notebook_cell_df34fa98e69747e1a8f8a730347b8e2f_Y241sZmlsZQ==.jl:7 =#\u001b[39m\n",
       "        return sum\n",
       "    end\n",
       "end"
      ]
     },
     "metadata": {},
     "output_type": "display_data"
    }
   ],
   "source": [
    "quote\n",
    "    function mysum(xs)\n",
    "      sum = 0\n",
    "      for x in xs\n",
    "        sum += x\n",
    "      end\n",
    "      return sum\n",
    "    end\n",
    "end"
   ]
  },
  {
   "cell_type": "code",
   "execution_count": 554,
   "metadata": {},
   "outputs": [
    {
     "data": {
      "text/plain": [
       ":(function mysum(xs)\n",
       "      \u001b[90m#= /Users/shufanzhang/Documents/coderepos/JuliaTutorials/more-advanced-materials/metaprogramming/jl_notebook_cell_df34fa98e69747e1a8f8a730347b8e2f_X22sZmlsZQ==.jl:1 =#\u001b[39m\n",
       "      \u001b[90m#= /Users/shufanzhang/Documents/coderepos/JuliaTutorials/more-advanced-materials/metaprogramming/jl_notebook_cell_df34fa98e69747e1a8f8a730347b8e2f_X22sZmlsZQ==.jl:2 =#\u001b[39m\n",
       "      sum = 0\n",
       "      \u001b[90m#= /Users/shufanzhang/Documents/coderepos/JuliaTutorials/more-advanced-materials/metaprogramming/jl_notebook_cell_df34fa98e69747e1a8f8a730347b8e2f_X22sZmlsZQ==.jl:3 =#\u001b[39m\n",
       "      for x = xs\n",
       "          \u001b[90m#= /Users/shufanzhang/Documents/coderepos/JuliaTutorials/more-advanced-materials/metaprogramming/jl_notebook_cell_df34fa98e69747e1a8f8a730347b8e2f_X22sZmlsZQ==.jl:4 =#\u001b[39m\n",
       "          sum += x\n",
       "          \u001b[90m#= /Users/shufanzhang/Documents/coderepos/JuliaTutorials/more-advanced-materials/metaprogramming/jl_notebook_cell_df34fa98e69747e1a8f8a730347b8e2f_X22sZmlsZQ==.jl:5 =#\u001b[39m\n",
       "      end\n",
       "  end)"
      ]
     },
     "metadata": {},
     "output_type": "display_data"
    }
   ],
   "source": [
    ":(function mysum(xs)\n",
    "    sum = 0\n",
    "    for x in xs\n",
    "      sum += x\n",
    "    end\n",
    "  end)"
   ]
  },
  {
   "cell_type": "markdown",
   "metadata": {},
   "source": [
    "## 表达式树的果实"
   ]
  },
  {
   "cell_type": "markdown",
   "metadata": {},
   "source": [
    "字符串支持“插值”，这使我们可以轻松地从较小的组件构建较大的字符串。"
   ]
  },
  {
   "cell_type": "code",
   "execution_count": 555,
   "metadata": {},
   "outputs": [
    {
     "name": "stdout",
     "output_type": "stream",
     "text": [
      "yields falsehood when preceded by its quotation\n"
     ]
    }
   ],
   "source": [
    "x = \"yields falsehood when preceded by its quotation\"\n",
    "println(x)"
   ]
  },
  {
   "cell_type": "code",
   "execution_count": 556,
   "metadata": {},
   "outputs": [
    {
     "name": "stdout",
     "output_type": "stream",
     "text": [
      "'yields falsehood when preceded by its quotation' yields falsehood when preceded by its quotation\n"
     ]
    }
   ],
   "source": [
    "y = \"'$x' $x\"\n",
    "println(y)"
   ]
  },
  {
   "cell_type": "code",
   "execution_count": 557,
   "metadata": {},
   "outputs": [
    {
     "data": {
      "text/plain": [
       ":(2 + 2)"
      ]
     },
     "metadata": {},
     "output_type": "display_data"
    }
   ],
   "source": [
    "x = :(2+2)"
   ]
  },
  {
   "cell_type": "code",
   "execution_count": 558,
   "metadata": {},
   "outputs": [
    {
     "data": {
      "text/plain": [
       ":((2 + 2) * (2 + 2))"
      ]
     },
     "metadata": {},
     "output_type": "display_data"
    }
   ],
   "source": [
    "test = :($x * $x)"
   ]
  },
  {
   "cell_type": "code",
   "execution_count": 559,
   "metadata": {},
   "outputs": [
    {
     "data": {
      "text/plain": [
       "16"
      ]
     },
     "metadata": {},
     "output_type": "display_data"
    }
   ],
   "source": [
    "eval(test)"
   ]
  },
  {
   "cell_type": "markdown",
   "metadata": {},
   "source": [
    "## Eval 之根"
   ]
  },
  {
   "cell_type": "markdown",
   "metadata": {},
   "source": [
    "`eval` 不仅仅可以返回结果。如果我们引用类似函数定义的东西会发生什么？"
   ]
  },
  {
   "cell_type": "code",
   "execution_count": 560,
   "metadata": {},
   "outputs": [
    {
     "data": {
      "text/plain": [
       ":(ex = $(Expr(:quote, :(foo233() = begin\n",
       "          \u001b[90m#= /Users/shufanzhang/Documents/coderepos/JuliaTutorials/more-advanced-materials/metaprogramming/jl_notebook_cell_df34fa98e69747e1a8f8a730347b8e2f_X35sZmlsZQ==.jl:1 =#\u001b[39m\n",
       "          println(\"I'm foo!\")\n",
       "      end))))"
      ]
     },
     "metadata": {},
     "output_type": "display_data"
    }
   ],
   "source": [
    "ex2 = :(ex = :(foo233() = println(\"I'm foo!\")))"
   ]
  },
  {
   "cell_type": "code",
   "execution_count": 561,
   "metadata": {},
   "outputs": [
    {
     "data": {
      "text/plain": [
       ":(foo233() = begin\n",
       "          \u001b[90m#= /Users/shufanzhang/Documents/coderepos/JuliaTutorials/more-advanced-materials/metaprogramming/jl_notebook_cell_df34fa98e69747e1a8f8a730347b8e2f_X35sZmlsZQ==.jl:1 =#\u001b[39m\n",
       "          println(\"I'm foo!\")\n",
       "      end)"
      ]
     },
     "metadata": {},
     "output_type": "display_data"
    }
   ],
   "source": [
    "eval(ex2)"
   ]
  },
  {
   "cell_type": "markdown",
   "metadata": {},
   "source": [
    "它实际上什么也没做；目前还没有。"
   ]
  },
  {
   "cell_type": "code",
   "execution_count": 562,
   "metadata": {},
   "outputs": [
    {
     "name": "stdout",
     "output_type": "stream",
     "text": [
      "I'm foo!\n"
     ]
    }
   ],
   "source": [
    "foo233()  # throws UndefVarError"
   ]
  },
  {
   "cell_type": "markdown",
   "metadata": {},
   "source": [
    "但是对 `ex` 求值会使 `foo` 生效！"
   ]
  },
  {
   "cell_type": "code",
   "execution_count": 563,
   "metadata": {},
   "outputs": [
    {
     "data": {
      "text/plain": [
       "foo233 (generic function with 1 method)"
      ]
     },
     "metadata": {},
     "output_type": "display_data"
    }
   ],
   "source": [
    "eval(ex)"
   ]
  },
  {
   "cell_type": "code",
   "execution_count": 564,
   "metadata": {},
   "outputs": [
    {
     "name": "stdout",
     "output_type": "stream",
     "text": [
      "I'm foo!\n"
     ]
    }
   ],
   "source": [
    "foo233()"
   ]
  },
  {
   "cell_type": "markdown",
   "metadata": {},
   "source": [
    "使用插值，我们可以动态构建函数定义；事实上，我们可以一次创建一系列函数。"
   ]
  },
  {
   "cell_type": "code",
   "execution_count": 565,
   "metadata": {},
   "outputs": [
    {
     "name": "stdout",
     "output_type": "stream",
     "text": [
      "foo() = begin\n",
      "        \u001b[90m#= /Users/shufanzhang/Documents/coderepos/JuliaTutorials/more-advanced-materials/metaprogramming/jl_notebook_cell_df34fa98e69747e1a8f8a730347b8e2f_X45sZmlsZQ==.jl:2 =#\u001b[39m\n",
      "        println(\"I'm foo!\")\n",
      "    end\n",
      "bar() = begin\n",
      "        \u001b[90m#= /Users/shufanzhang/Documents/coderepos/JuliaTutorials/more-advanced-materials/metaprogramming/jl_notebook_cell_df34fa98e69747e1a8f8a730347b8e2f_X45sZmlsZQ==.jl:2 =#\u001b[39m\n",
      "        println(\"I'm bar!\")\n",
      "    end\n",
      "baz() = begin\n",
      "        \u001b[90m#= /Users/shufanzhang/Documents/coderepos/JuliaTutorials/more-advanced-materials/metaprogramming/jl_notebook_cell_df34fa98e69747e1a8f8a730347b8e2f_X45sZmlsZQ==.jl:2 =#\u001b[39m\n",
      "        println(\"I'm baz!\")\n",
      "    end\n"
     ]
    }
   ],
   "source": [
    "for name in [:foo, :bar, :baz]\n",
    "  println(:($name() = println($(\"I'm $(name)!\"))))\n",
    "end"
   ]
  },
  {
   "cell_type": "markdown",
   "metadata": {},
   "source": [
    "然后也可以使用 `eval` 使它们生效。"
   ]
  },
  {
   "cell_type": "code",
   "execution_count": 566,
   "metadata": {},
   "outputs": [],
   "source": [
    "for name in [:foo, :bar, :baz]\n",
    "  eval(:($name() = println($(\"I'm $(name)!\"))))\n",
    "end"
   ]
  },
  {
   "cell_type": "code",
   "execution_count": 567,
   "metadata": {},
   "outputs": [
    {
     "name": "stdout",
     "output_type": "stream",
     "text": [
      "I'm bar!\n"
     ]
    }
   ],
   "source": [
    "bar()"
   ]
  },
  {
   "cell_type": "code",
   "execution_count": 568,
   "metadata": {},
   "outputs": [
    {
     "name": "stdout",
     "output_type": "stream",
     "text": [
      "I'm baz!\n"
     ]
    }
   ],
   "source": [
    "baz()"
   ]
  },
  {
   "cell_type": "markdown",
   "metadata": {},
   "source": [
    "在封装 API（例如，来自 C 库或通过 HTTP）时，这可能是一个*极其*有用的技巧。API 通常会定义可用函数的列表，因此您可以获取该列表并一次性生成整个封装器！有关示例，请参见 Clang.jl、TensorFlow.jl 或 Base 线性代数封装器。"
   ]
  },
  {
   "cell_type": "markdown",
   "metadata": {},
   "source": [
    "## 原罪"
   ]
  },
  {
   "cell_type": "markdown",
   "metadata": {},
   "source": [
    "这是一个更实际的例子。考虑以下基于泰勒级数的 `sin` 函数定义。\n",
    "\n",
    "$$sin(x) = \\sum_{k=1}^{\\infty} \\frac{(-1)^k}{(1+2k)!} x^{1+2k}$$"
   ]
  },
  {
   "cell_type": "code",
   "execution_count": 569,
   "metadata": {},
   "outputs": [
    {
     "data": {
      "text/plain": [
       "mysin (generic function with 1 method)"
      ]
     },
     "metadata": {},
     "output_type": "display_data"
    }
   ],
   "source": [
    "mysin(x) = sum((-1)^k/factorial(1+2k) * x^(1+2k) for k = 0:5)"
   ]
  },
  {
   "cell_type": "code",
   "execution_count": 570,
   "metadata": {},
   "outputs": [
    {
     "data": {
      "text/plain": [
       "(0.4794255386041834, 0.479425538604203)"
      ]
     },
     "metadata": {},
     "output_type": "display_data"
    }
   ],
   "source": [
    "mysin(0.5), sin(0.5)"
   ]
  },
  {
   "cell_type": "markdown",
   "metadata": {},
   "source": [
    "为了了解我们目前所处的位置，我们将对其进行基准测试。"
   ]
  },
  {
   "cell_type": "code",
   "execution_count": 571,
   "metadata": {},
   "outputs": [
    {
     "data": {
      "text/plain": [
       "BenchmarkTools.Trial: 10000 samples with 997 evaluations per sample.\n",
       " Range \u001b[90m(\u001b[39m\u001b[36m\u001b[1mmin\u001b[22m\u001b[39m … \u001b[35mmax\u001b[39m\u001b[90m):  \u001b[39m\u001b[36m\u001b[1m21.230 ns\u001b[22m\u001b[39m … \u001b[35m 2.140 μs\u001b[39m  \u001b[90m┊\u001b[39m GC \u001b[90m(\u001b[39mmin … max\u001b[90m): \u001b[39m0.00% … 0.00%\n",
       " Time  \u001b[90m(\u001b[39m\u001b[34m\u001b[1mmedian\u001b[22m\u001b[39m\u001b[90m):     \u001b[39m\u001b[34m\u001b[1m23.486 ns              \u001b[22m\u001b[39m\u001b[90m┊\u001b[39m GC \u001b[90m(\u001b[39mmedian\u001b[90m):    \u001b[39m0.00%\n",
       " Time  \u001b[90m(\u001b[39m\u001b[32m\u001b[1mmean\u001b[22m\u001b[39m ± \u001b[32mσ\u001b[39m\u001b[90m):   \u001b[39m\u001b[32m\u001b[1m27.421 ns\u001b[22m\u001b[39m ± \u001b[32m38.538 ns\u001b[39m  \u001b[90m┊\u001b[39m GC \u001b[90m(\u001b[39mmean ± σ\u001b[90m):  \u001b[39m0.00% ± 0.00%\n",
       "\n",
       "  \u001b[39m█\u001b[39m▇\u001b[34m▇\u001b[39m\u001b[39m▄\u001b[39m▃\u001b[32m▂\u001b[39m\u001b[39m▁\u001b[39m▁\u001b[39m \u001b[39m \u001b[39m \u001b[39m \u001b[39m \u001b[39m \u001b[39m \u001b[39m \u001b[39m \u001b[39m \u001b[39m \u001b[39m \u001b[39m \u001b[39m \u001b[39m \u001b[39m \u001b[39m \u001b[39m \u001b[39m \u001b[39m \u001b[39m \u001b[39m \u001b[39m▃\u001b[39m \u001b[39m \u001b[39m \u001b[39m \u001b[39m \u001b[39m \u001b[39m \u001b[39m \u001b[39m \u001b[39m \u001b[39m \u001b[39m \u001b[39m \u001b[39m \u001b[39m \u001b[39m \u001b[39m \u001b[39m \u001b[39m \u001b[39m \u001b[39m \u001b[39m \u001b[39m \u001b[39m \u001b[39m \u001b[39m \u001b[39m \u001b[39m \u001b[39m \u001b[39m▂\n",
       "  \u001b[39m█\u001b[39m█\u001b[34m█\u001b[39m\u001b[39m█\u001b[39m█\u001b[32m█\u001b[39m\u001b[39m█\u001b[39m█\u001b[39m█\u001b[39m▆\u001b[39m▅\u001b[39m▅\u001b[39m▅\u001b[39m▅\u001b[39m▅\u001b[39m▅\u001b[39m▅\u001b[39m▆\u001b[39m▄\u001b[39m▃\u001b[39m▁\u001b[39m▅\u001b[39m▄\u001b[39m▄\u001b[39m▁\u001b[39m▅\u001b[39m▅\u001b[39m▃\u001b[39m▃\u001b[39m▆\u001b[39m█\u001b[39m▆\u001b[39m▄\u001b[39m▅\u001b[39m▄\u001b[39m▃\u001b[39m▄\u001b[39m▆\u001b[39m▆\u001b[39m▆\u001b[39m▇\u001b[39m▅\u001b[39m▄\u001b[39m▅\u001b[39m▆\u001b[39m▆\u001b[39m▆\u001b[39m▆\u001b[39m▆\u001b[39m▅\u001b[39m▅\u001b[39m▅\u001b[39m▅\u001b[39m▄\u001b[39m▃\u001b[39m▄\u001b[39m▄\u001b[39m▃\u001b[39m▄\u001b[39m \u001b[39m█\n",
       "  21.2 ns\u001b[90m      \u001b[39m\u001b[90mHistogram: \u001b[39m\u001b[90m\u001b[1mlog(\u001b[22m\u001b[39m\u001b[90mfrequency\u001b[39m\u001b[90m\u001b[1m)\u001b[22m\u001b[39m\u001b[90m by time\u001b[39m      97.7 ns \u001b[0m\u001b[1m<\u001b[22m\n",
       "\n",
       " Memory estimate\u001b[90m: \u001b[39m\u001b[33m0 bytes\u001b[39m, allocs estimate\u001b[90m: \u001b[39m\u001b[33m0\u001b[39m."
      ]
     },
     "metadata": {},
     "output_type": "display_data"
    }
   ],
   "source": [
    "using BenchmarkTools\n",
    "@benchmark mysin(0.5)"
   ]
  },
  {
   "cell_type": "markdown",
   "metadata": {},
   "source": [
    "目前，这比它可能的速度要慢得多。原因是我们在循环遍历 `k`，这相对昂贵。写出会快得多："
   ]
  },
  {
   "cell_type": "code",
   "execution_count": 572,
   "metadata": {},
   "outputs": [
    {
     "data": {
      "text/plain": [
       "mysin (generic function with 1 method)"
      ]
     },
     "metadata": {},
     "output_type": "display_data"
    }
   ],
   "source": [
    "mysin(x) = x - x^3/6 + x^5/120 # + ..."
   ]
  },
  {
   "cell_type": "markdown",
   "metadata": {},
   "source": [
    "但这写起来很乏味，而且不再像原始的泰勒级数了。更难判断我们是否犯了错误，而且我们很容易修改它。有没有两全其美的方法呢？\n",
    "\n",
    "让 Julia 为我们写出那段代码怎么样？\n",
    "\n",
    "首先，让我们考虑 `+` 函数的符号版本。"
   ]
  },
  {
   "cell_type": "code",
   "execution_count": 573,
   "metadata": {},
   "outputs": [
    {
     "data": {
      "text/plain": [
       "plus (generic function with 1 method)"
      ]
     },
     "metadata": {},
     "output_type": "display_data"
    }
   ],
   "source": [
    "plus(a, b) = :($a + $b)"
   ]
  },
  {
   "cell_type": "code",
   "execution_count": 574,
   "metadata": {},
   "outputs": [
    {
     "ename": "ErrorException",
     "evalue": "syntax: \"$\" expression outside quote around /Users/shufanzhang/Documents/coderepos/JuliaTutorials/more-advanced-materials/metaprogramming/jl_notebook_cell_df34fa98e69747e1a8f8a730347b8e2f_Y243sZmlsZQ==.jl:3",
     "output_type": "error",
     "traceback": [
      "syntax: \"$\" expression outside quote around /Users/shufanzhang/Documents/coderepos/JuliaTutorials/more-advanced-materials/metaprogramming/jl_notebook_cell_df34fa98e69747e1a8f8a730347b8e2f_Y243sZmlsZQ==.jl:3\n",
      "\n",
      "Stacktrace:\n",
      " [1] top-level scope\n",
      "   @ ~/Documents/coderepos/JuliaTutorials/more-advanced-materials/metaprogramming/jl_notebook_cell_df34fa98e69747e1a8f8a730347b8e2f_Y243sZmlsZQ==.jl:3"
     ]
    }
   ],
   "source": [
    "a= 1\n",
    "b = 2\n",
    "a1 = $a\n",
    "b1 = $b\n"
   ]
  },
  {
   "cell_type": "code",
   "execution_count": 575,
   "metadata": {},
   "outputs": [
    {
     "name": "stdout",
     "output_type": "stream",
     "text": [
      "(1 + 2 + 3) + 4 + 5 + 6\n",
      "21\n"
     ]
    }
   ],
   "source": [
    "expp = :(1+2+3)\n",
    "qq = :($expp+4+5+6)\n",
    "println(qq)\n",
    "\n",
    "ex = eval(qq)\n",
    "println(ex)"
   ]
  },
  {
   "cell_type": "code",
   "execution_count": 576,
   "metadata": {},
   "outputs": [
    {
     "data": {
      "text/plain": [
       ":(1 + 2)"
      ]
     },
     "metadata": {},
     "output_type": "display_data"
    }
   ],
   "source": [
    "plus(1, 2)"
   ]
  },
  {
   "cell_type": "markdown",
   "metadata": {},
   "source": [
    "有了 `plus`，我们可以做更有趣的事情，比如符号 `sum`："
   ]
  },
  {
   "cell_type": "code",
   "execution_count": 577,
   "metadata": {},
   "outputs": [
    {
     "data": {
      "text/plain": [
       "55"
      ]
     },
     "metadata": {},
     "output_type": "display_data"
    }
   ],
   "source": [
    "reduce(+, 1:10)"
   ]
  },
  {
   "cell_type": "code",
   "execution_count": 578,
   "metadata": {},
   "outputs": [
    {
     "data": {
      "text/plain": [
       ":(((((((((1 + 2) + 3) + 4) + 5) + 6) + 7) + 8) + 9) + 10)"
      ]
     },
     "metadata": {},
     "output_type": "display_data"
    }
   ],
   "source": [
    "reduce(plus, 1:10)"
   ]
  },
  {
   "cell_type": "code",
   "execution_count": 579,
   "metadata": {},
   "outputs": [],
   "source": [
    "eval(ans)"
   ]
  },
  {
   "cell_type": "markdown",
   "metadata": {},
   "source": [
    "鉴于此，我们也可以对符号变量求和。"
   ]
  },
  {
   "cell_type": "code",
   "execution_count": 580,
   "metadata": {},
   "outputs": [
    {
     "data": {
      "text/plain": [
       ":((x ^ 2 + x) + 1)"
      ]
     },
     "metadata": {},
     "output_type": "display_data"
    }
   ],
   "source": [
    "reduce(plus, [:(x^2), :x, 1])"
   ]
  },
  {
   "cell_type": "markdown",
   "metadata": {},
   "source": [
    "这为我们提供了谜题的重要组成部分，但我们还需要弄清楚我们正在对*什么*求和。让我们创建上面泰勒级数的符号版本，它对 `k` 的值进行插值。"
   ]
  },
  {
   "cell_type": "code",
   "execution_count": 581,
   "metadata": {},
   "outputs": [
    {
     "data": {
      "text/plain": [
       ":((1 * x ^ 5) / 120)"
      ]
     },
     "metadata": {},
     "output_type": "display_data"
    }
   ],
   "source": [
    "k = 2\n",
    ":($((-1)^k) * x^$(1+2k) / $(factorial(1+2k)))"
   ]
  },
  {
   "cell_type": "markdown",
   "metadata": {},
   "source": [
    "现在我们有了一项，我们可以根据需要生成任意多项。"
   ]
  },
  {
   "cell_type": "code",
   "execution_count": 582,
   "metadata": {},
   "outputs": [
    {
     "data": {
      "text/plain": [
       "6-element Vector{Expr}:\n",
       " :((1 * x ^ 1) / 1)\n",
       " :((-1 * x ^ 3) / 6)\n",
       " :((1 * x ^ 5) / 120)\n",
       " :((-1 * x ^ 7) / 5040)\n",
       " :((1 * x ^ 9) / 362880)\n",
       " :((-1 * x ^ 11) / 39916800)"
      ]
     },
     "metadata": {},
     "output_type": "display_data"
    }
   ],
   "source": [
    "terms = [:($((-1)^k) * x^$(1+2k) / $(factorial(1+2k))) for k = 0:5]"
   ]
  },
  {
   "cell_type": "markdown",
   "metadata": {},
   "source": [
    "然后对它们求和 –"
   ]
  },
  {
   "cell_type": "code",
   "execution_count": 583,
   "metadata": {},
   "outputs": [
    {
     "data": {
      "text/plain": [
       ":((((((1 * x ^ 1) / 1 + (-1 * x ^ 3) / 6) + (1 * x ^ 5) / 120) + (-1 * x ^ 7) / 5040) + (1 * x ^ 9) / 362880) + (-1 * x ^ 11) / 39916800)"
      ]
     },
     "metadata": {},
     "output_type": "display_data"
    }
   ],
   "source": [
    "reduce(plus, terms)"
   ]
  },
  {
   "cell_type": "markdown",
   "metadata": {},
   "source": [
    "并从中创建一个函数定义："
   ]
  },
  {
   "cell_type": "code",
   "execution_count": 584,
   "metadata": {},
   "outputs": [
    {
     "data": {
      "text/plain": [
       ":(mysin(x) = begin\n",
       "          \u001b[90m#= /Users/shufanzhang/Documents/coderepos/JuliaTutorials/more-advanced-materials/metaprogramming/jl_notebook_cell_df34fa98e69747e1a8f8a730347b8e2f_Y120sZmlsZQ==.jl:1 =#\u001b[39m\n",
       "          Expr[:((1 * x ^ 1) / 1), :((-1 * x ^ 3) / 6), :((1 * x ^ 5) / 120), :((-1 * x ^ 7) / 5040), :((1 * x ^ 9) / 362880), :((-1 * x ^ 11) / 39916800)]\n",
       "      end)"
      ]
     },
     "metadata": {},
     "output_type": "display_data"
    }
   ],
   "source": [
    ":(mysin(x) = $terms)"
   ]
  },
  {
   "cell_type": "code",
   "execution_count": 585,
   "metadata": {},
   "outputs": [],
   "source": [
    "eval(ans)"
   ]
  },
  {
   "cell_type": "code",
   "execution_count": 586,
   "metadata": {},
   "outputs": [
    {
     "data": {
      "text/plain": [
       "(0.47942708333333334, 0.479425538604203)"
      ]
     },
     "metadata": {},
     "output_type": "display_data"
    }
   ],
   "source": [
    "mysin(0.5), sin(0.5)"
   ]
  },
  {
   "cell_type": "code",
   "execution_count": 587,
   "metadata": {},
   "outputs": [
    {
     "data": {
      "text/plain": [
       "BenchmarkTools.Trial: 10000 samples with 1000 evaluations per sample.\n",
       " Range \u001b[90m(\u001b[39m\u001b[36m\u001b[1mmin\u001b[22m\u001b[39m … \u001b[35mmax\u001b[39m\u001b[90m):  \u001b[39m\u001b[36m\u001b[1m0.833 ns\u001b[22m\u001b[39m … \u001b[35m21.458 ns\u001b[39m  \u001b[90m┊\u001b[39m GC \u001b[90m(\u001b[39mmin … max\u001b[90m): \u001b[39m0.00% … 0.00%\n",
       " Time  \u001b[90m(\u001b[39m\u001b[34m\u001b[1mmedian\u001b[22m\u001b[39m\u001b[90m):     \u001b[39m\u001b[34m\u001b[1m0.917 ns              \u001b[22m\u001b[39m\u001b[90m┊\u001b[39m GC \u001b[90m(\u001b[39mmedian\u001b[90m):    \u001b[39m0.00%\n",
       " Time  \u001b[90m(\u001b[39m\u001b[32m\u001b[1mmean\u001b[22m\u001b[39m ± \u001b[32mσ\u001b[39m\u001b[90m):   \u001b[39m\u001b[32m\u001b[1m0.928 ns\u001b[22m\u001b[39m ± \u001b[32m 0.304 ns\u001b[39m  \u001b[90m┊\u001b[39m GC \u001b[90m(\u001b[39mmean ± σ\u001b[90m):  \u001b[39m0.00% ± 0.00%\n",
       "\n",
       "  \u001b[39m \u001b[39m \u001b[39m \u001b[39m \u001b[39m \u001b[39m▅\u001b[39m \u001b[39m \u001b[39m \u001b[39m \u001b[39m \u001b[39m█\u001b[34m \u001b[39m\u001b[32m \u001b[39m\u001b[39m \u001b[39m \u001b[39m \u001b[39m▁\u001b[39m \u001b[39m \u001b[39m \u001b[39m \u001b[39m \u001b[39m▂\u001b[39m \u001b[39m \u001b[39m \u001b[39m \u001b[39m \u001b[39m \u001b[39m \u001b[39m \u001b[39m \u001b[39m \u001b[39m \u001b[39m \u001b[39m \u001b[39m \u001b[39m \u001b[39m \u001b[39m \u001b[39m \u001b[39m \u001b[39m \u001b[39m \u001b[39m \u001b[39m \u001b[39m \u001b[39m \u001b[39m \u001b[39m \u001b[39m \u001b[39m \u001b[39m \u001b[39m \u001b[39m \u001b[39m \u001b[39m \u001b[39m \u001b[39m▁\n",
       "  \u001b[39m▅\u001b[39m▁\u001b[39m▁\u001b[39m▁\u001b[39m▁\u001b[39m█\u001b[39m▁\u001b[39m▁\u001b[39m▁\u001b[39m▁\u001b[39m▁\u001b[39m█\u001b[34m▁\u001b[39m\u001b[32m▁\u001b[39m\u001b[39m▁\u001b[39m▁\u001b[39m▁\u001b[39m█\u001b[39m▁\u001b[39m▁\u001b[39m▁\u001b[39m▁\u001b[39m▁\u001b[39m█\u001b[39m▁\u001b[39m▁\u001b[39m▁\u001b[39m▁\u001b[39m█\u001b[39m█\u001b[39m▁\u001b[39m▁\u001b[39m▁\u001b[39m▁\u001b[39m▅\u001b[39m▁\u001b[39m▁\u001b[39m▁\u001b[39m▁\u001b[39m▁\u001b[39m▅\u001b[39m▁\u001b[39m▁\u001b[39m▁\u001b[39m▁\u001b[39m▁\u001b[39m▄\u001b[39m▁\u001b[39m▁\u001b[39m▁\u001b[39m▁\u001b[39m▁\u001b[39m▄\u001b[39m▁\u001b[39m▁\u001b[39m▁\u001b[39m▁\u001b[39m█\u001b[39m \u001b[39m█\n",
       "  0.833 ns\u001b[90m     \u001b[39m\u001b[90mHistogram: \u001b[39m\u001b[90m\u001b[1mlog(\u001b[22m\u001b[39m\u001b[90mfrequency\u001b[39m\u001b[90m\u001b[1m)\u001b[22m\u001b[39m\u001b[90m by time\u001b[39m     1.25 ns \u001b[0m\u001b[1m<\u001b[22m\n",
       "\n",
       " Memory estimate\u001b[90m: \u001b[39m\u001b[33m0 bytes\u001b[39m, allocs estimate\u001b[90m: \u001b[39m\u001b[33m0\u001b[39m."
      ]
     },
     "metadata": {},
     "output_type": "display_data"
    }
   ],
   "source": [
    "@benchmark mysin(0.5)"
   ]
  },
  {
   "cell_type": "markdown",
   "metadata": {},
   "source": [
    "在我的机器上，`sin2` 大约需要 50 *纳*秒才能运行——对于一个朴素的实现来说还不错。如果我们向光子发起 20 米短跑挑战，我们会赢！"
   ]
  },
  {
   "cell_type": "markdown",
   "metadata": {},
   "source": [
    "## 表达式之下"
   ]
  },
  {
   "cell_type": "markdown",
   "metadata": {},
   "source": [
    "它实际上只是一个普通的树形数据结构，我们可以查看它的内部。"
   ]
  },
  {
   "cell_type": "code",
   "execution_count": 588,
   "metadata": {},
   "outputs": [
    {
     "name": "stdout",
     "output_type": "stream",
     "text": [
      "ex.head = :call\n",
      "ex.args = Any[:f, :x, :y]\n"
     ]
    }
   ],
   "source": [
    "ex = :(f(x, y))\n",
    "#ex = Expr(:call, :f, :x, :y)\n",
    "@show ex.head;\n",
    "@show ex.args;"
   ]
  },
  {
   "cell_type": "markdown",
   "metadata": {},
   "source": [
    "在上面的示例中，我们在字符串中将 `+` 替换为 `-`。在表达式中，我们可以通过更改表达式的 `.args` 来做到这一点。"
   ]
  },
  {
   "cell_type": "code",
   "execution_count": 589,
   "metadata": {},
   "outputs": [
    {
     "name": "stdout",
     "output_type": "stream",
     "text": [
      "ex.head = :call\n",
      "ex.args = Any[:+, 2, 2]\n"
     ]
    }
   ],
   "source": [
    "ex = :(2+2)\n",
    "@show ex.head;\n",
    "@show ex.args;\n"
   ]
  },
  {
   "cell_type": "code",
   "execution_count": 590,
   "metadata": {},
   "outputs": [
    {
     "data": {
      "text/plain": [
       ":(2 - 2)"
      ]
     },
     "metadata": {},
     "output_type": "display_data"
    }
   ],
   "source": [
    "ex.args[1] = :-\n",
    "ex"
   ]
  },
  {
   "cell_type": "code",
   "execution_count": 591,
   "metadata": {},
   "outputs": [
    {
     "data": {
      "text/plain": [
       "0"
      ]
     },
     "metadata": {},
     "output_type": "display_data"
    }
   ],
   "source": [
    "eval(ex)"
   ]
  },
  {
   "cell_type": "markdown",
   "metadata": {},
   "source": [
    "请注意，更大、更复杂的表达式比这要复杂一些。它们是*嵌套*的，这意味着表达式 `2+3` 包含在更大的表达式 `1 + (2 + 3)` 中。"
   ]
  },
  {
   "cell_type": "code",
   "execution_count": 592,
   "metadata": {},
   "outputs": [
    {
     "data": {
      "text/plain": [
       ":(1 + (2 + 3))"
      ]
     },
     "metadata": {},
     "output_type": "display_data"
    }
   ],
   "source": [
    "ex = :(1 + (2 + 3))"
   ]
  },
  {
   "cell_type": "code",
   "execution_count": 593,
   "metadata": {},
   "outputs": [
    {
     "data": {
      "text/plain": [
       "3-element Vector{Any}:\n",
       "  :+\n",
       " 1\n",
       "  :(2 + 3)"
      ]
     },
     "metadata": {},
     "output_type": "display_data"
    }
   ],
   "source": [
    "ex.args"
   ]
  },
  {
   "cell_type": "markdown",
   "metadata": {},
   "source": [
    "一个名为 MacroTools 的包提供了一种处理此问题的方法。它依次向我们显示*所有*子表达式，允许我们决定如何更改它们。可以将其视为类似于查找和替换操作。这是一个在表达式中查找所有整数并将其递增的示例。"
   ]
  },
  {
   "cell_type": "code",
   "execution_count": 594,
   "metadata": {},
   "outputs": [],
   "source": [
    "# import Pkg; Pkg.add(\"MacroTools\")\n",
    "using MacroTools\n",
    "using MacroTools: postwalk"
   ]
  },
  {
   "cell_type": "code",
   "execution_count": 595,
   "metadata": {},
   "outputs": [],
   "source": [
    "# postwalk(ex)"
   ]
  },
  {
   "cell_type": "code",
   "execution_count": 596,
   "metadata": {},
   "outputs": [
    {
     "data": {
      "text/plain": [
       ":(2 + (3 + 4))"
      ]
     },
     "metadata": {},
     "output_type": "display_data"
    }
   ],
   "source": [
    "postwalk(ex) do x\n",
    "  x isa Integer ? x+1 : x\n",
    "end\n",
    "# This will traverse the expression `ex` and increment every integer it finds by 1."
   ]
  },
  {
   "cell_type": "markdown",
   "metadata": {},
   "source": [
    "要了解正在发生的事情，您可以使用 `@show` 来查看 `postwalk` 看到了什么。\n",
    "\n",
    "（`@show` 是 Julia 最有用的功能；如果您不理解代码在做什么，请将其放入并查看正在发生的事情。）"
   ]
  },
  {
   "cell_type": "code",
   "execution_count": 597,
   "metadata": {},
   "outputs": [
    {
     "name": "stdout",
     "output_type": "stream",
     "text": [
      "x = 1\n",
      "x = 2\n",
      "x = 3\n"
     ]
    },
    {
     "data": {
      "text/plain": [
       "3-element Vector{Int64}:\n",
       " 1\n",
       " 2\n",
       " 3"
      ]
     },
     "metadata": {},
     "output_type": "display_data"
    }
   ],
   "source": [
    "map(x -> @show(x), [1,2,3])"
   ]
  },
  {
   "cell_type": "code",
   "execution_count": 598,
   "metadata": {},
   "outputs": [
    {
     "name": "stdout",
     "output_type": "stream",
     "text": [
      "x = :+\n",
      "x = 1\n",
      "x = :+\n",
      "x = 2\n",
      "x = 3\n",
      "x = :(2 + 3)\n",
      "x = :(1 + (2 + 3))\n"
     ]
    },
    {
     "data": {
      "text/plain": [
       ":(1 + (2 + 3))"
      ]
     },
     "metadata": {},
     "output_type": "display_data"
    }
   ],
   "source": [
    "postwalk(ex) do x\n",
    "  @show x\n",
    "end"
   ]
  },
  {
   "cell_type": "markdown",
   "metadata": {},
   "source": [
    "MacroTools 还提供了用于对表达式进行*模式匹配*的工具。`a_ + b_` 充当模板；如果提供的表达式看起来像模板，则 `a` 和 `b` 将匹配相加的两个事物。如果不是，它们将只是 `nothing`。"
   ]
  },
  {
   "cell_type": "code",
   "execution_count": 599,
   "metadata": {},
   "outputs": [
    {
     "data": {
      "text/plain": [
       "true"
      ]
     },
     "metadata": {},
     "output_type": "display_data"
    }
   ],
   "source": [
    "ex = :(2 + 3)\n",
    "@capture(ex, a_ + b_)"
   ]
  },
  {
   "cell_type": "code",
   "execution_count": 600,
   "metadata": {},
   "outputs": [
    {
     "data": {
      "text/plain": [
       "(2, 3)"
      ]
     },
     "metadata": {},
     "output_type": "display_data"
    }
   ],
   "source": [
    "a, b"
   ]
  },
  {
   "cell_type": "code",
   "execution_count": 601,
   "metadata": {},
   "outputs": [
    {
     "data": {
      "text/plain": [
       "false"
      ]
     },
     "metadata": {},
     "output_type": "display_data"
    }
   ],
   "source": [
    "ex = :(f(2,3))\n",
    "@capture(ex, a_ + b_)"
   ]
  },
  {
   "cell_type": "code",
   "execution_count": 602,
   "metadata": {},
   "outputs": [
    {
     "data": {
      "text/plain": [
       "(nothing, nothing)"
      ]
     },
     "metadata": {},
     "output_type": "display_data"
    }
   ],
   "source": [
    "a, b"
   ]
  },
  {
   "cell_type": "markdown",
   "metadata": {},
   "source": [
    "我们最终可以使用它来替换表达式中*所有*的 `+` 为 `-`，而不仅仅是一个。"
   ]
  },
  {
   "cell_type": "code",
   "execution_count": 603,
   "metadata": {},
   "outputs": [
    {
     "data": {
      "text/plain": [
       ":(3 * x ^ 2 + (2x + 1))"
      ]
     },
     "metadata": {},
     "output_type": "display_data"
    }
   ],
   "source": [
    "ex = :(3x^2 + (2x + 1))"
   ]
  },
  {
   "cell_type": "code",
   "execution_count": 604,
   "metadata": {},
   "outputs": [
    {
     "data": {
      "text/plain": [
       ":(3 * x ^ 2 - (2x - 1))"
      ]
     },
     "metadata": {},
     "output_type": "display_data"
    }
   ],
   "source": [
    "postwalk(ex) do x\n",
    "  @capture(x, a_ + b_) || return x\n",
    "  :($a - $b)\n",
    "end"
   ]
  },
  {
   "cell_type": "markdown",
   "metadata": {},
   "source": [
    "## 宏攻击"
   ]
  },
  {
   "cell_type": "markdown",
   "metadata": {},
   "source": [
    "您可能已经见过宏了——Julia 中的基本功能，如 `@show`、`@time` 和 `@inline` 实际上都是宏。对于基本用法，将它们视为改变代码运行方式的简单注释就足够了。但是我们现在已经足够了解它们在底层是如何工作的了。\n",
    "\n",
    "普通函数从来看不到*代码*，只看到*值*。如果我们将 `2+2` 传递给函数，它会看到 `4`。"
   ]
  },
  {
   "cell_type": "code",
   "execution_count": 605,
   "metadata": {},
   "outputs": [
    {
     "data": {
      "text/plain": [
       "foo (generic function with 2 methods)"
      ]
     },
     "metadata": {},
     "output_type": "display_data"
    }
   ],
   "source": [
    "function foo(x)\n",
    "  @show x\n",
    "  return x\n",
    "end"
   ]
  },
  {
   "cell_type": "code",
   "execution_count": 606,
   "metadata": {},
   "outputs": [
    {
     "name": "stdout",
     "output_type": "stream",
     "text": [
      "x = 4\n"
     ]
    },
    {
     "data": {
      "text/plain": [
       "4"
      ]
     },
     "metadata": {},
     "output_type": "display_data"
    }
   ],
   "source": [
    "foo(2+2)"
   ]
  },
  {
   "cell_type": "markdown",
   "metadata": {},
   "source": [
    "宏非常像函数，但是它们看到的是传递给它们的*代码*，就像我们上面看到的表达式一样。宏有机会操作此代码并更改其行为方式。"
   ]
  },
  {
   "cell_type": "code",
   "execution_count": 607,
   "metadata": {},
   "outputs": [
    {
     "data": {
      "text/plain": [
       "@foo (macro with 1 method)"
      ]
     },
     "metadata": {},
     "output_type": "display_data"
    }
   ],
   "source": [
    "macro foo(x)\n",
    "  @show x\n",
    "  return x\n",
    "end"
   ]
  },
  {
   "cell_type": "code",
   "execution_count": 608,
   "metadata": {},
   "outputs": [
    {
     "name": "stdout",
     "output_type": "stream",
     "text": [
      "x = :(2 + 2)\n"
     ]
    },
    {
     "data": {
      "text/plain": [
       "4"
      ]
     },
     "metadata": {},
     "output_type": "display_data"
    }
   ],
   "source": [
    "@foo(2+2)"
   ]
  },
  {
   "cell_type": "markdown",
   "metadata": {},
   "source": [
    "举一个简单的例子，我们可以替换 `+` 的一个参数并得到不同的结果。"
   ]
  },
  {
   "cell_type": "code",
   "execution_count": 609,
   "metadata": {},
   "outputs": [
    {
     "data": {
      "text/plain": [
       "@foo (macro with 1 method)"
      ]
     },
     "metadata": {},
     "output_type": "display_data"
    }
   ],
   "source": [
    "macro foo(x)\n",
    "  x.args[2] = 5\n",
    "  return x\n",
    "end"
   ]
  },
  {
   "cell_type": "code",
   "execution_count": 610,
   "metadata": {},
   "outputs": [
    {
     "data": {
      "text/plain": [
       "7"
      ]
     },
     "metadata": {},
     "output_type": "display_data"
    }
   ],
   "source": [
    "@foo(2+2)"
   ]
  },
  {
   "cell_type": "markdown",
   "metadata": {},
   "source": [
    "MacroTools 提供了一个有用的工具 `@expand`，用于查看宏内部发生了什么；它揭示了宏返回的代码而不运行它。"
   ]
  },
  {
   "cell_type": "code",
   "execution_count": 611,
   "metadata": {},
   "outputs": [
    {
     "data": {
      "text/plain": [
       ":(5 + 2)"
      ]
     },
     "metadata": {},
     "output_type": "display_data"
    }
   ],
   "source": [
    "@expand @foo(2+2)"
   ]
  },
  {
   "cell_type": "markdown",
   "metadata": {},
   "source": [
    "您当然可以在 Julia 自带的宏上使用它，这是学习它们工作原理的好方法。"
   ]
  },
  {
   "cell_type": "code",
   "execution_count": 612,
   "metadata": {},
   "outputs": [
    {
     "name": "stdout",
     "output_type": "stream",
     "text": [
      "  0.000000 seconds\n"
     ]
    },
    {
     "data": {
      "text/plain": [
       "4"
      ]
     },
     "metadata": {},
     "output_type": "display_data"
    }
   ],
   "source": [
    "@time 2+2"
   ]
  },
  {
   "cell_type": "code",
   "execution_count": 613,
   "metadata": {},
   "outputs": [
    {
     "data": {
      "text/plain": [
       "quote\n",
       "    \u001b[90m#= timing.jl:315 =#\u001b[39m\n",
       "    begin\n",
       "        \u001b[90m#= timing.jl:320 =#\u001b[39m\n",
       "        local fly = begin\n",
       "                    \u001b[90m#= timing.jl:574 =#\u001b[39m\n",
       "                    $(Expr(:meta, :force_compile))\n",
       "                    \u001b[90m#= timing.jl:575 =#\u001b[39m\n",
       "                    (Base.Threads).lock_profiling(true)\n",
       "                    \u001b[90m#= timing.jl:576 =#\u001b[39m\n",
       "                    local penguin = (Base.Threads).LOCK_CONFLICT_COUNT[]\n",
       "                    \u001b[90m#= timing.jl:577 =#\u001b[39m\n",
       "                    local locust = Base.gc_num()\n",
       "                    \u001b[90m#= timing.jl:578 =#\u001b[39m\n",
       "                    local grasshopper = Base.time_ns()\n",
       "                    \u001b[90m#= timing.jl:579 =#\u001b[39m\n",
       "                    Base.cumulative_compile_timing(true)\n",
       "                    \u001b[90m#= timing.jl:580 =#\u001b[39m\n",
       "                    local swan = Base.cumulative_compile_time_ns()\n",
       "                    \u001b[90m#= timing.jl:581 =#\u001b[39m\n",
       "                    local goosander = $(Expr(:tryfinally, :(2 + 2), quote\n",
       "    grasshopper = Base.time_ns() - grasshopper\n",
       "    \u001b[90m#= timing.jl:583 =#\u001b[39m\n",
       "    Base.cumulative_compile_timing(false)\n",
       "    \u001b[90m#= timing.jl:584 =#\u001b[39m\n",
       "    swan = Base.cumulative_compile_time_ns() .- swan\n",
       "    \u001b[90m#= timing.jl:585 =#\u001b[39m\n",
       "    penguin = (Base.Threads).LOCK_CONFLICT_COUNT[] - penguin\n",
       "    \u001b[90m#= timing.jl:586 =#\u001b[39m\n",
       "    (Base.Threads).lock_profiling(false)\n",
       "end))\n",
       "                    \u001b[90m#= timing.jl:588 =#\u001b[39m\n",
       "                    local quelea = Base.GC_Diff(Base.gc_num(), locust)\n",
       "                    \u001b[90m#= timing.jl:589 =#\u001b[39m\n",
       "                    (value = goosander, time = grasshopper / 1.0e9, bytes = quelea.allocd, gctime = quelea.total_time / 1.0e9, gcstats = quelea, lock_conflicts = penguin, compile_time = swan[1] / 1.0e9, recompile_time = swan[2] / 1.0e9)\n",
       "                end\n",
       "        \u001b[90m#= timing.jl:321 =#\u001b[39m\n",
       "        local sanddollar = Base.nothing\n",
       "        \u001b[90m#= timing.jl:322 =#\u001b[39m\n",
       "        Base.time_print(Base.stdout, fly.time * 1.0e9, fly.gcstats.allocd, fly.gcstats.total_time, Base.gc_alloc_count(fly.gcstats), fly.lock_conflicts, fly.compile_time * 1.0e9, fly.recompile_time * 1.0e9, true; msg = sanddollar)\n",
       "        \u001b[90m#= timing.jl:323 =#\u001b[39m\n",
       "        fly.value\n",
       "    end\n",
       "end"
      ]
     },
     "metadata": {},
     "output_type": "display_data"
    }
   ],
   "source": [
    "@expand @time 2+2"
   ]
  },
  {
   "cell_type": "markdown",
   "metadata": {},
   "source": [
    "让我们做一些更高级的事情。使用我们上面开发的技术，我们可以在代码中查找并替换 `+` 表达式。我们仍然会进行加法运算，但我们也会记录我们添加的内容以进行调试。\n",
    "\n",
    "首先，让我们使用引号创建一个示例表达式。"
   ]
  },
  {
   "cell_type": "code",
   "execution_count": 614,
   "metadata": {},
   "outputs": [
    {
     "data": {
      "text/plain": [
       "quote\n",
       "    \u001b[90m#= /Users/shufanzhang/Documents/coderepos/JuliaTutorials/more-advanced-materials/metaprogramming/jl_notebook_cell_df34fa98e69747e1a8f8a730347b8e2f_Y213sZmlsZQ==.jl:2 =#\u001b[39m\n",
       "    s = 0\n",
       "    \u001b[90m#= /Users/shufanzhang/Documents/coderepos/JuliaTutorials/more-advanced-materials/metaprogramming/jl_notebook_cell_df34fa98e69747e1a8f8a730347b8e2f_Y213sZmlsZQ==.jl:3 =#\u001b[39m\n",
       "    for x = xs\n",
       "        \u001b[90m#= /Users/shufanzhang/Documents/coderepos/JuliaTutorials/more-advanced-materials/metaprogramming/jl_notebook_cell_df34fa98e69747e1a8f8a730347b8e2f_Y213sZmlsZQ==.jl:4 =#\u001b[39m\n",
       "        s = s + x\n",
       "        \u001b[90m#= /Users/shufanzhang/Documents/coderepos/JuliaTutorials/more-advanced-materials/metaprogramming/jl_notebook_cell_df34fa98e69747e1a8f8a730347b8e2f_Y213sZmlsZQ==.jl:5 =#\u001b[39m\n",
       "    end\n",
       "    \u001b[90m#= /Users/shufanzhang/Documents/coderepos/JuliaTutorials/more-advanced-materials/metaprogramming/jl_notebook_cell_df34fa98e69747e1a8f8a730347b8e2f_Y213sZmlsZQ==.jl:6 =#\u001b[39m\n",
       "    return s\n",
       "end"
      ]
     },
     "metadata": {},
     "output_type": "display_data"
    }
   ],
   "source": [
    "ex = quote\n",
    "  s = 0\n",
    "  for x in xs\n",
    "    s = s + x\n",
    "  end\n",
    "  return s\n",
    "end"
   ]
  },
  {
   "cell_type": "markdown",
   "metadata": {},
   "source": [
    "我们可以使用 `ex` 来开发我们想要的代码转换，并检查代码是否做了正确的事情。"
   ]
  },
  {
   "cell_type": "code",
   "execution_count": 615,
   "metadata": {},
   "outputs": [
    {
     "data": {
      "text/plain": [
       "quote\n",
       "    \u001b[90m#= /Users/shufanzhang/Documents/coderepos/JuliaTutorials/more-advanced-materials/metaprogramming/jl_notebook_cell_df34fa98e69747e1a8f8a730347b8e2f_Y213sZmlsZQ==.jl:2 =#\u001b[39m\n",
       "    s = 0\n",
       "    \u001b[90m#= /Users/shufanzhang/Documents/coderepos/JuliaTutorials/more-advanced-materials/metaprogramming/jl_notebook_cell_df34fa98e69747e1a8f8a730347b8e2f_Y213sZmlsZQ==.jl:3 =#\u001b[39m\n",
       "    for x = xs\n",
       "        \u001b[90m#= /Users/shufanzhang/Documents/coderepos/JuliaTutorials/more-advanced-materials/metaprogramming/jl_notebook_cell_df34fa98e69747e1a8f8a730347b8e2f_Y213sZmlsZQ==.jl:4 =#\u001b[39m\n",
       "        s = begin\n",
       "                \u001b[90m#= /Users/shufanzhang/Documents/coderepos/JuliaTutorials/more-advanced-materials/metaprogramming/jl_notebook_cell_df34fa98e69747e1a8f8a730347b8e2f_Y215sZmlsZQ==.jl:4 =#\u001b[39m\n",
       "                println(\"Adding \" * string(s) * \" to \" * string(x))\n",
       "                \u001b[90m#= /Users/shufanzhang/Documents/coderepos/JuliaTutorials/more-advanced-materials/metaprogramming/jl_notebook_cell_df34fa98e69747e1a8f8a730347b8e2f_Y215sZmlsZQ==.jl:5 =#\u001b[39m\n",
       "                s + x\n",
       "            end\n",
       "        \u001b[90m#= /Users/shufanzhang/Documents/coderepos/JuliaTutorials/more-advanced-materials/metaprogramming/jl_notebook_cell_df34fa98e69747e1a8f8a730347b8e2f_Y213sZmlsZQ==.jl:5 =#\u001b[39m\n",
       "    end\n",
       "    \u001b[90m#= /Users/shufanzhang/Documents/coderepos/JuliaTutorials/more-advanced-materials/metaprogramming/jl_notebook_cell_df34fa98e69747e1a8f8a730347b8e2f_Y213sZmlsZQ==.jl:6 =#\u001b[39m\n",
       "    return s\n",
       "end"
      ]
     },
     "metadata": {},
     "output_type": "display_data"
    }
   ],
   "source": [
    "postwalk(ex) do x\n",
    "  @capture(x, a_ + b_) || return x\n",
    "  quote\n",
    "    println(\"Adding \" * string($a) * \" to \" * string($b))\n",
    "    $x\n",
    "  end\n",
    "end"
   ]
  },
  {
   "cell_type": "markdown",
   "metadata": {},
   "source": [
    "现在我们只需将其包装在一个宏中，就可以将其添加到普通的函数定义中了！"
   ]
  },
  {
   "cell_type": "code",
   "execution_count": 616,
   "metadata": {},
   "outputs": [
    {
     "data": {
      "text/plain": [
       "@log_adds (macro with 1 method)"
      ]
     },
     "metadata": {},
     "output_type": "display_data"
    }
   ],
   "source": [
    "macro log_adds(ex)\n",
    "  postwalk(ex) do x\n",
    "    @capture(x, a_ + b_) || return x\n",
    "    quote\n",
    "      println(\"Adding \" * string($a) * \" to \" * string($b))\n",
    "      $x\n",
    "    end\n",
    "  end\n",
    "end"
   ]
  },
  {
   "cell_type": "code",
   "execution_count": 617,
   "metadata": {},
   "outputs": [
    {
     "data": {
      "text/plain": [
       "mysum (generic function with 3 methods)"
      ]
     },
     "metadata": {},
     "output_type": "display_data"
    }
   ],
   "source": [
    "@log_adds function mysum(xs)\n",
    "  sum = 0\n",
    "  for x in xs\n",
    "    sum = sum + x\n",
    "  end\n",
    "  return sum\n",
    "end"
   ]
  },
  {
   "cell_type": "code",
   "execution_count": 618,
   "metadata": {},
   "outputs": [
    {
     "name": "stdout",
     "output_type": "stream",
     "text": [
      "Adding 0 to 1\n",
      "Adding 1 to 2\n",
      "Adding 3 to 3\n",
      "Adding 6 to 4\n",
      "Adding 10 to 5\n",
      "Adding 15 to 6\n",
      "Adding 21 to 7\n",
      "Adding 28 to 8\n",
      "Adding 36 to 9\n",
      "Adding 45 to 10\n"
     ]
    },
    {
     "data": {
      "text/plain": [
       "55"
      ]
     },
     "metadata": {},
     "output_type": "display_data"
    }
   ],
   "source": [
    "mysum(1:10)"
   ]
  },
  {
   "cell_type": "markdown",
   "metadata": {},
   "source": [
    "添加和删除 `@log_adds` 比手动插入调试调用要好得多，尤其是在代码中有很多 `+` 的情况下。也许您可以扩展宏以支持记录其他运算符，例如 `-`。"
   ]
  },
  {
   "cell_type": "markdown",
   "metadata": {},
   "source": [
    "## 生成函数"
   ]
  },
  {
   "cell_type": "markdown",
   "metadata": {},
   "source": [
    "_生成函数_是 Julia 独有的一种新的元编程工具。本节将简要描述和说明它们，[这篇博文](http://mikeinnes.github.io/2017/08/24/cudanative.html)为感兴趣的读者提供了更多示例。\n",
    "\n",
    "从本质上讲，生成函数就像一个作用于*类型*而不是表达式树的宏。如果我们尝试检查参数，我们将看到它们的类型而不是它们的值。"
   ]
  },
  {
   "cell_type": "code",
   "execution_count": 619,
   "metadata": {},
   "outputs": [
    {
     "data": {
      "text/plain": [
       "gadd (generic function with 1 method)"
      ]
     },
     "metadata": {},
     "output_type": "display_data"
    }
   ],
   "source": [
    "@generated function gadd(a, b)\n",
    "  Core.println(\"a = $a, b = $b\")\n",
    "  :(a+b)\n",
    "end"
   ]
  },
  {
   "cell_type": "code",
   "execution_count": 620,
   "metadata": {},
   "outputs": [
    {
     "name": "stdout",
     "output_type": "stream",
     "text": [
      "a = Int64, b = Float64\n"
     ]
    },
    {
     "data": {
      "text/plain": [
       "7.5"
      ]
     },
     "metadata": {},
     "output_type": "display_data"
    }
   ],
   "source": [
    "gadd(5, 2.5)"
   ]
  },
  {
   "cell_type": "markdown",
   "metadata": {},
   "source": [
    "当处理更复杂的类型时，生成函数会变得更加强大。例如，请注意数组如何在类型内部存储其秩，因此这是我们可以为其生成代码的内容。"
   ]
  },
  {
   "cell_type": "code",
   "execution_count": 621,
   "metadata": {},
   "outputs": [
    {
     "data": {
      "text/plain": [
       "2×2 Matrix{Float64}:\n",
       " 0.0495597  0.114229\n",
       " 0.908209   0.803697"
      ]
     },
     "metadata": {},
     "output_type": "display_data"
    }
   ],
   "source": [
    "rand(2,2)"
   ]
  },
  {
   "cell_type": "code",
   "execution_count": 622,
   "metadata": {},
   "outputs": [
    {
     "data": {
      "text/plain": [
       "Nothing"
      ]
     },
     "metadata": {},
     "output_type": "display_data"
    }
   ],
   "source": [
    "typeof(ans)"
   ]
  },
  {
   "cell_type": "markdown",
   "metadata": {},
   "source": [
    "这为什么有用呢？如果您编写处理数组的代码，您会注意到您通常需要为数组的每个维度编写一个 `for` 循环。如果您想处理一个 7D 数组，则需要编写七个嵌套循环！"
   ]
  },
  {
   "cell_type": "code",
   "execution_count": 623,
   "metadata": {},
   "outputs": [
    {
     "data": {
      "text/plain": [
       "mysum (generic function with 3 methods)"
      ]
     },
     "metadata": {},
     "output_type": "display_data"
    }
   ],
   "source": [
    "function mysum(xs::Array{<:Any,1})\n",
    "  sum = 0\n",
    "  for i = 1:length(xs)\n",
    "    sum += xs[i]\n",
    "  end\n",
    "  return sum\n",
    "end\n",
    "\n",
    "function mysum(xs::Array{<:Any,2})\n",
    "  sum = 0\n",
    "  for i = 1:size(xs,1)\n",
    "    for j = 1:size(xs, 2)\n",
    "      sum += xs[i]\n",
    "    end\n",
    "  end\n",
    "  return sum\n",
    "end"
   ]
  },
  {
   "cell_type": "markdown",
   "metadata": {},
   "source": [
    "其他语言只是为向量、矩阵以及可能的 3D 数组硬编码每个函数的一个版本，而 Julia 允许我们通过根据需要生成嵌套循环来轻松编写 N 维算法。"
   ]
  },
  {
   "cell_type": "code",
   "execution_count": 624,
   "metadata": {},
   "outputs": [],
   "source": []
  }
 ],
 "metadata": {
  "@webio": {
   "lastCommId": null,
   "lastKernelId": null
  },
  "kernelspec": {
   "display_name": "Julia 1.11.5",
   "language": "julia",
   "name": "julia-1.11"
  },
  "language_info": {
   "file_extension": ".jl",
   "mimetype": "application/julia",
   "name": "julia",
   "version": "1.11.5"
  }
 },
 "nbformat": 4,
 "nbformat_minor": 2
}
