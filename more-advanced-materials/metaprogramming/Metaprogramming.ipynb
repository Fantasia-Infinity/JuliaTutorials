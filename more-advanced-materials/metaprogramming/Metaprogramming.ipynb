{
 "cells": [
  {
   "cell_type": "markdown",
   "metadata": {},
   "source": [
    "# Julia 元编程"
   ]
  },
  {
   "cell_type": "markdown",
   "metadata": {},
   "source": [
    "## 惊吓引号"
   ]
  },
  {
   "cell_type": "markdown",
   "metadata": {},
   "source": [
    "Julia 支持*元编程*。这类似于符号编程，我们处理的是表达式（如 `$2+2$`），而不是值（如 `$4$`）。\n",
    "\n",
    "通常，Julia 将我们提供的所有代码视为一组指令，并执行它们。如果我们输入 `2+2`，它将忠实地将这些数字相加并给出结果。"
   ]
  },
  {
   "cell_type": "code",
   "execution_count": 1,
   "metadata": {},
   "outputs": [
    {
     "data": {
      "text/plain": [
       "4"
      ]
     },
     "metadata": {},
     "output_type": "display_data"
    }
   ],
   "source": [
    "2+2"
   ]
  },
  {
   "cell_type": "markdown",
   "metadata": {},
   "source": [
    "我们可以用引号来阻止这种情况发生。用 `\"` 将代码括起来，会将其视为纯粹的字符序列，而根本不将其视为代码。"
   ]
  },
  {
   "cell_type": "code",
   "execution_count": 2,
   "metadata": {},
   "outputs": [
    {
     "data": {
      "text/plain": [
       "\"2+2\""
      ]
     },
     "metadata": {},
     "output_type": "display_data"
    }
   ],
   "source": [
    "x = \"2+2\""
   ]
  },
  {
   "cell_type": "markdown",
   "metadata": {},
   "source": [
    "然后，我们可以明确地告诉 Julia 稍后对其进行求值。"
   ]
  },
  {
   "cell_type": "code",
   "execution_count": 3,
   "metadata": {},
   "outputs": [
    {
     "name": "stdout",
     "output_type": "stream",
     "text": [
      "(:call, :+, 2, 2)call, :+, 2, 2)"
     ]
    }
   ],
   "source": [
    "eval(Meta.parse(x))\n",
    "\n",
    "ast = Meta.parse(x)\n",
    "# ast.args[1] = 3\n",
    "ast\n",
    "\n",
    "#s expresion\n",
    "Meta.show_sexpr(ast)"
   ]
  },
  {
   "cell_type": "markdown",
   "metadata": {},
   "source": [
    "为什么要用这种复杂的方式来做加法呢？诀窍在于，当我们拥有表达式 `2+2` 时，我们可以用各种有趣的方式修改它。举个简单的例子，想象一下用 `-` 替换 `+`。"
   ]
  },
  {
   "cell_type": "code",
   "execution_count": 4,
   "metadata": {},
   "outputs": [
    {
     "data": {
      "text/plain": [
       "\"2-2\""
      ]
     },
     "metadata": {},
     "output_type": "display_data"
    }
   ],
   "source": [
    "x = replace(x, \"+\"=>\"-\")"
   ]
  },
  {
   "cell_type": "code",
   "execution_count": 5,
   "metadata": {},
   "outputs": [
    {
     "data": {
      "text/plain": [
       "0"
      ]
     },
     "metadata": {},
     "output_type": "display_data"
    }
   ],
   "source": [
    "eval(Meta.parse(x))\n"
   ]
  },
  {
   "cell_type": "markdown",
   "metadata": {},
   "source": [
    "我们实际上不想在这里使用字符串；Julia 有一种更强大的引用代码的方式，即皱眉运算符 `:()`。"
   ]
  },
  {
   "cell_type": "code",
   "execution_count": 6,
   "metadata": {},
   "outputs": [
    {
     "data": {
      "text/plain": [
       ":(2 + 2)"
      ]
     },
     "metadata": {},
     "output_type": "display_data"
    }
   ],
   "source": [
    "x = :(2+2)"
   ]
  },
  {
   "cell_type": "code",
   "execution_count": 7,
   "metadata": {},
   "outputs": [
    {
     "data": {
      "text/plain": [
       "4"
      ]
     },
     "metadata": {},
     "output_type": "display_data"
    }
   ],
   "source": [
    "eval(x)"
   ]
  },
  {
   "cell_type": "markdown",
   "metadata": {},
   "source": [
    "我们可以引用更大的表达式，包括代码块和整个函数定义。关键字 `quote` 是 `begin` 的替代品，它返回被引用的代码块。\n",
    "\n",
    "在较大的代码块中，Julia 会保留行号信息，这些信息会以注释的形式出现。"
   ]
  },
  {
   "cell_type": "code",
   "execution_count": 8,
   "metadata": {},
   "outputs": [
    {
     "data": {
      "text/plain": [
       "quote\n",
       "    \u001b[90m#= /Users/shufanzhang/Documents/coderepos/Julia_Tutorials/more-advanced-materials/metaprogramming/jl_notebook_cell_df34fa98e69747e1a8f8a730347b8e2f_X21sZmlsZQ==.jl:2 =#\u001b[39m\n",
       "    x = 2 + 2\n",
       "    \u001b[90m#= /Users/shufanzhang/Documents/coderepos/Julia_Tutorials/more-advanced-materials/metaprogramming/jl_notebook_cell_df34fa98e69747e1a8f8a730347b8e2f_X21sZmlsZQ==.jl:3 =#\u001b[39m\n",
       "    hypot(x, 5)\n",
       "end"
      ]
     },
     "metadata": {},
     "output_type": "display_data"
    }
   ],
   "source": [
    "quote\n",
    "  x = 2 + 2\n",
    "  hypot(x, 5)\n",
    "end"
   ]
  },
  {
   "cell_type": "code",
   "execution_count": 9,
   "metadata": {},
   "outputs": [
    {
     "data": {
      "text/plain": [
       "quote\n",
       "    \u001b[90m#= /Users/shufanzhang/Documents/coderepos/Julia_Tutorials/more-advanced-materials/metaprogramming/jl_notebook_cell_df34fa98e69747e1a8f8a730347b8e2f_X22sZmlsZQ==.jl:2 =#\u001b[39m\n",
       "    function mysum(xs)\n",
       "        \u001b[90m#= /Users/shufanzhang/Documents/coderepos/Julia_Tutorials/more-advanced-materials/metaprogramming/jl_notebook_cell_df34fa98e69747e1a8f8a730347b8e2f_X22sZmlsZQ==.jl:2 =#\u001b[39m\n",
       "        \u001b[90m#= /Users/shufanzhang/Documents/coderepos/Julia_Tutorials/more-advanced-materials/metaprogramming/jl_notebook_cell_df34fa98e69747e1a8f8a730347b8e2f_X22sZmlsZQ==.jl:3 =#\u001b[39m\n",
       "        sum = 0\n",
       "        \u001b[90m#= /Users/shufanzhang/Documents/coderepos/Julia_Tutorials/more-advanced-materials/metaprogramming/jl_notebook_cell_df34fa98e69747e1a8f8a730347b8e2f_X22sZmlsZQ==.jl:4 =#\u001b[39m\n",
       "        for x = xs\n",
       "            \u001b[90m#= /Users/shufanzhang/Documents/coderepos/Julia_Tutorials/more-advanced-materials/metaprogramming/jl_notebook_cell_df34fa98e69747e1a8f8a730347b8e2f_X22sZmlsZQ==.jl:5 =#\u001b[39m\n",
       "            sum += x\n",
       "            \u001b[90m#= /Users/shufanzhang/Documents/coderepos/Julia_Tutorials/more-advanced-materials/metaprogramming/jl_notebook_cell_df34fa98e69747e1a8f8a730347b8e2f_X22sZmlsZQ==.jl:6 =#\u001b[39m\n",
       "        end\n",
       "        \u001b[90m#= /Users/shufanzhang/Documents/coderepos/Julia_Tutorials/more-advanced-materials/metaprogramming/jl_notebook_cell_df34fa98e69747e1a8f8a730347b8e2f_X22sZmlsZQ==.jl:7 =#\u001b[39m\n",
       "        return sum\n",
       "    end\n",
       "end"
      ]
     },
     "metadata": {},
     "output_type": "display_data"
    }
   ],
   "source": [
    "quote\n",
    "    function mysum(xs)\n",
    "      sum = 0\n",
    "      for x in xs\n",
    "        sum += x\n",
    "      end\n",
    "      return sum\n",
    "    end\n",
    "end"
   ]
  },
  {
   "cell_type": "code",
   "execution_count": 10,
   "metadata": {},
   "outputs": [
    {
     "data": {
      "text/plain": [
       ":(function mysum(xs)\n",
       "      \u001b[90m#= /Users/shufanzhang/Documents/coderepos/Julia_Tutorials/more-advanced-materials/metaprogramming/jl_notebook_cell_df34fa98e69747e1a8f8a730347b8e2f_X23sZmlsZQ==.jl:1 =#\u001b[39m\n",
       "      \u001b[90m#= /Users/shufanzhang/Documents/coderepos/Julia_Tutorials/more-advanced-materials/metaprogramming/jl_notebook_cell_df34fa98e69747e1a8f8a730347b8e2f_X23sZmlsZQ==.jl:2 =#\u001b[39m\n",
       "      sum = 0\n",
       "      \u001b[90m#= /Users/shufanzhang/Documents/coderepos/Julia_Tutorials/more-advanced-materials/metaprogramming/jl_notebook_cell_df34fa98e69747e1a8f8a730347b8e2f_X23sZmlsZQ==.jl:3 =#\u001b[39m\n",
       "      for x = xs\n",
       "          \u001b[90m#= /Users/shufanzhang/Documents/coderepos/Julia_Tutorials/more-advanced-materials/metaprogramming/jl_notebook_cell_df34fa98e69747e1a8f8a730347b8e2f_X23sZmlsZQ==.jl:4 =#\u001b[39m\n",
       "          sum += x\n",
       "          \u001b[90m#= /Users/shufanzhang/Documents/coderepos/Julia_Tutorials/more-advanced-materials/metaprogramming/jl_notebook_cell_df34fa98e69747e1a8f8a730347b8e2f_X23sZmlsZQ==.jl:5 =#\u001b[39m\n",
       "      end\n",
       "  end)"
      ]
     },
     "metadata": {},
     "output_type": "display_data"
    }
   ],
   "source": [
    ":(function mysum(xs)\n",
    "    sum = 0\n",
    "    for x in xs\n",
    "      sum += x\n",
    "    end\n",
    "  end)"
   ]
  },
  {
   "cell_type": "markdown",
   "metadata": {},
   "source": [
    "## 表达式树的果实"
   ]
  },
  {
   "cell_type": "markdown",
   "metadata": {},
   "source": [
    "字符串支持“插值”，这使我们可以轻松地从较小的组件构建较大的字符串。"
   ]
  },
  {
   "cell_type": "code",
   "execution_count": 11,
   "metadata": {},
   "outputs": [
    {
     "name": "stdout",
     "output_type": "stream",
     "text": [
      "yields falsehood when preceded by its quotation\n"
     ]
    }
   ],
   "source": [
    "x = \"yields falsehood when preceded by its quotation\"\n",
    "println(x)"
   ]
  },
  {
   "cell_type": "code",
   "execution_count": 12,
   "metadata": {},
   "outputs": [
    {
     "name": "stdout",
     "output_type": "stream",
     "text": [
      "'yields falsehood when preceded by its quotation' yields falsehood when preceded by its quotation\n"
     ]
    }
   ],
   "source": [
    "y = \"'$x' $x\"\n",
    "println(y)"
   ]
  },
  {
   "cell_type": "code",
   "execution_count": 13,
   "metadata": {},
   "outputs": [
    {
     "data": {
      "text/plain": [
       ":(2 + 2)"
      ]
     },
     "metadata": {},
     "output_type": "display_data"
    }
   ],
   "source": [
    "x = :(2+2)"
   ]
  },
  {
   "cell_type": "code",
   "execution_count": 14,
   "metadata": {},
   "outputs": [
    {
     "data": {
      "text/plain": [
       ":((2 + 2) * (2 + 2))"
      ]
     },
     "metadata": {},
     "output_type": "display_data"
    }
   ],
   "source": [
    "test = :($x * $x)"
   ]
  },
  {
   "cell_type": "code",
   "execution_count": 15,
   "metadata": {},
   "outputs": [
    {
     "data": {
      "text/plain": [
       "16"
      ]
     },
     "metadata": {},
     "output_type": "display_data"
    }
   ],
   "source": [
    "eval(test)"
   ]
  },
  {
   "cell_type": "markdown",
   "metadata": {},
   "source": [
    "## Eval 之根"
   ]
  },
  {
   "cell_type": "markdown",
   "metadata": {},
   "source": [
    "`eval` 不仅仅可以返回结果。如果我们引用类似函数定义的东西会发生什么？"
   ]
  },
  {
   "cell_type": "code",
   "execution_count": 16,
   "metadata": {},
   "outputs": [
    {
     "data": {
      "text/plain": [
       ":(ex = $(Expr(:quote, :(foo233() = begin\n",
       "          \u001b[90m#= /Users/shufanzhang/Documents/coderepos/Julia_Tutorials/more-advanced-materials/metaprogramming/jl_notebook_cell_df34fa98e69747e1a8f8a730347b8e2f_X36sZmlsZQ==.jl:1 =#\u001b[39m\n",
       "          println(\"I'm foo!\")\n",
       "      end))))"
      ]
     },
     "metadata": {},
     "output_type": "display_data"
    }
   ],
   "source": [
    "ex2 = :(ex = :(foo233() = println(\"I'm foo!\")))"
   ]
  },
  {
   "cell_type": "code",
   "execution_count": 17,
   "metadata": {},
   "outputs": [
    {
     "data": {
      "text/plain": [
       ":(foo233() = begin\n",
       "          \u001b[90m#= /Users/shufanzhang/Documents/coderepos/Julia_Tutorials/more-advanced-materials/metaprogramming/jl_notebook_cell_df34fa98e69747e1a8f8a730347b8e2f_X36sZmlsZQ==.jl:1 =#\u001b[39m\n",
       "          println(\"I'm foo!\")\n",
       "      end)"
      ]
     },
     "metadata": {},
     "output_type": "display_data"
    }
   ],
   "source": [
    "eval(ex2)"
   ]
  },
  {
   "cell_type": "markdown",
   "metadata": {},
   "source": [
    "它实际上什么也没做；目前还没有。"
   ]
  },
  {
   "cell_type": "code",
   "execution_count": 18,
   "metadata": {},
   "outputs": [
    {
     "ename": "UndefVarError",
     "evalue": "UndefVarError: `foo233` not defined in `Main`\nSuggestion: check for spelling errors or missing imports.",
     "output_type": "error",
     "traceback": [
      "UndefVarError: `foo233` not defined in `Main`\n",
      "Suggestion: check for spelling errors or missing imports.\n",
      "\n",
      "Stacktrace:\n",
      " [1] top-level scope\n",
      "   @ ~/Documents/coderepos/Julia_Tutorials/more-advanced-materials/metaprogramming/jl_notebook_cell_df34fa98e69747e1a8f8a730347b8e2f_X42sZmlsZQ==.jl:1"
     ]
    }
   ],
   "source": [
    "foo233()  # throws UndefVarError"
   ]
  },
  {
   "cell_type": "markdown",
   "metadata": {},
   "source": [
    "但是对 `ex` 求值会使 `foo` 生效！"
   ]
  },
  {
   "cell_type": "code",
   "execution_count": 19,
   "metadata": {},
   "outputs": [
    {
     "data": {
      "text/plain": [
       "foo233 (generic function with 1 method)"
      ]
     },
     "metadata": {},
     "output_type": "display_data"
    }
   ],
   "source": [
    "eval(ex)"
   ]
  },
  {
   "cell_type": "code",
   "execution_count": 20,
   "metadata": {},
   "outputs": [
    {
     "name": "stdout",
     "output_type": "stream",
     "text": [
      "I'm foo!\n"
     ]
    }
   ],
   "source": [
    "foo233()"
   ]
  },
  {
   "cell_type": "markdown",
   "metadata": {},
   "source": [
    "使用插值，我们可以动态构建函数定义；事实上，我们可以一次创建一系列函数。"
   ]
  },
  {
   "cell_type": "code",
   "execution_count": 21,
   "metadata": {},
   "outputs": [
    {
     "name": "stdout",
     "output_type": "stream",
     "text": [
      "foo() = begin\n",
      "        \u001b[90m#= /Users/shufanzhang/Documents/coderepos/Julia_Tutorials/more-advanced-materials/metaprogramming/jl_notebook_cell_df34fa98e69747e1a8f8a730347b8e2f_X50sZmlsZQ==.jl:2 =#\u001b[39m\n",
      "        println(\"I'm foo!\")\n",
      "    end\n",
      "bar() = begin\n",
      "        \u001b[90m#= /Users/shufanzhang/Documents/coderepos/Julia_Tutorials/more-advanced-materials/metaprogramming/jl_notebook_cell_df34fa98e69747e1a8f8a730347b8e2f_X50sZmlsZQ==.jl:2 =#\u001b[39m\n",
      "        println(\"I'm bar!\")\n",
      "    end\n",
      "baz() = begin\n",
      "        \u001b[90m#= /Users/shufanzhang/Documents/coderepos/Julia_Tutorials/more-advanced-materials/metaprogramming/jl_notebook_cell_df34fa98e69747e1a8f8a730347b8e2f_X50sZmlsZQ==.jl:2 =#\u001b[39m\n",
      "        println(\"I'm baz!\")\n",
      "    end\n",
      "\n",
      "        println(\"I'm foo!\")\n",
      "    end\n",
      "bar() = begin\n",
      "        \u001b[90m#= /Users/shufanzhang/Documents/coderepos/Julia_Tutorials/more-advanced-materials/metaprogramming/jl_notebook_cell_df34fa98e69747e1a8f8a730347b8e2f_X50sZmlsZQ==.jl:2 =#\u001b[39m\n",
      "        println(\"I'm bar!\")\n",
      "    end\n",
      "baz() = begin\n",
      "        \u001b[90m#= /Users/shufanzhang/Documents/coderepos/Julia_Tutorials/more-advanced-materials/metaprogramming/jl_notebook_cell_df34fa98e69747e1a8f8a730347b8e2f_X50sZmlsZQ==.jl:2 =#\u001b[39m\n",
      "        println(\"I'm baz!\")\n",
      "    end\n"
     ]
    }
   ],
   "source": [
    "for name in [:foo, :bar, :baz]\n",
    "  println(:($name() = println($(\"I'm $(name)!\"))))\n",
    "end"
   ]
  },
  {
   "cell_type": "markdown",
   "metadata": {},
   "source": [
    "然后也可以使用 `eval` 使它们生效。"
   ]
  },
  {
   "cell_type": "code",
   "execution_count": 22,
   "metadata": {},
   "outputs": [],
   "source": [
    "for name in [:foo, :bar, :baz]\n",
    "  eval(:($name() = println($(\"I'm $(name)!\"))))\n",
    "end"
   ]
  },
  {
   "cell_type": "code",
   "execution_count": 23,
   "metadata": {},
   "outputs": [
    {
     "name": "stdout",
     "output_type": "stream",
     "text": [
      "I'm bar!\n"
     ]
    }
   ],
   "source": [
    "bar()"
   ]
  },
  {
   "cell_type": "code",
   "execution_count": 24,
   "metadata": {},
   "outputs": [
    {
     "name": "stdout",
     "output_type": "stream",
     "text": [
      "I'm baz!\n"
     ]
    }
   ],
   "source": [
    "baz()"
   ]
  },
  {
   "cell_type": "markdown",
   "metadata": {},
   "source": [
    "在封装 API（例如，来自 C 库或通过 HTTP）时，这可能是一个*极其*有用的技巧。API 通常会定义可用函数的列表，因此您可以获取该列表并一次性生成整个封装器！有关示例，请参见 Clang.jl、TensorFlow.jl 或 Base 线性代数封装器。"
   ]
  },
  {
   "cell_type": "markdown",
   "metadata": {},
   "source": [
    "## 原罪"
   ]
  },
  {
   "cell_type": "markdown",
   "metadata": {},
   "source": [
    "这是一个更实际的例子。考虑以下基于泰勒级数的 `sin` 函数定义。\n",
    "\n",
    "$$sin(x) = \\sum_{k=1}^{\\infty} \\frac{(-1)^k}{(1+2k)!} x^{1+2k}$$"
   ]
  },
  {
   "cell_type": "code",
   "execution_count": 25,
   "metadata": {},
   "outputs": [
    {
     "data": {
      "text/plain": [
       "mysin (generic function with 1 method)"
      ]
     },
     "metadata": {},
     "output_type": "display_data"
    }
   ],
   "source": [
    "mysin(x) = sum((-1)^k/factorial(1+2k) * x^(1+2k) for k = 0:5)"
   ]
  },
  {
   "cell_type": "code",
   "execution_count": 26,
   "metadata": {},
   "outputs": [
    {
     "data": {
      "text/plain": [
       "(0.4794255386041834, 0.479425538604203)"
      ]
     },
     "metadata": {},
     "output_type": "display_data"
    }
   ],
   "source": [
    "mysin(0.5), sin(0.5)"
   ]
  },
  {
   "cell_type": "markdown",
   "metadata": {},
   "source": [
    "为了了解我们目前所处的位置，我们将对其进行基准测试。"
   ]
  },
  {
   "cell_type": "code",
   "execution_count": 27,
   "metadata": {},
   "outputs": [
    {
     "data": {
      "text/plain": [
       "BenchmarkTools.Trial: 10000 samples with 997 evaluations per sample.\n",
       " Range \u001b[90m(\u001b[39m\u001b[36m\u001b[1mmin\u001b[22m\u001b[39m … \u001b[35mmax\u001b[39m\u001b[90m):  \u001b[39m\u001b[36m\u001b[1m21.231 ns\u001b[22m\u001b[39m … \u001b[35m66.073 ns\u001b[39m  \u001b[90m┊\u001b[39m GC \u001b[90m(\u001b[39mmin … max\u001b[90m): \u001b[39m0.00% … 0.00%\n",
       " Time  \u001b[90m(\u001b[39m\u001b[34m\u001b[1mmedian\u001b[22m\u001b[39m\u001b[90m):     \u001b[39m\u001b[34m\u001b[1m24.240 ns              \u001b[22m\u001b[39m\u001b[90m┊\u001b[39m GC \u001b[90m(\u001b[39mmedian\u001b[90m):    \u001b[39m0.00%\n",
       " Time  \u001b[90m(\u001b[39m\u001b[32m\u001b[1mmean\u001b[22m\u001b[39m ± \u001b[32mσ\u001b[39m\u001b[90m):   \u001b[39m\u001b[32m\u001b[1m24.510 ns\u001b[22m\u001b[39m ± \u001b[32m 1.803 ns\u001b[39m  \u001b[90m┊\u001b[39m GC \u001b[90m(\u001b[39mmean ± σ\u001b[90m):  \u001b[39m0.00% ± 0.00%\n",
       "\n",
       "  \u001b[39m▂\u001b[39m \u001b[39m \u001b[39m \u001b[39m▃\u001b[39m▂\u001b[39m \u001b[39m▁\u001b[39m▂\u001b[39m▁\u001b[39m \u001b[39m▃\u001b[39m▇\u001b[39m█\u001b[39m▂\u001b[39m▅\u001b[39m▁\u001b[34m█\u001b[39m\u001b[39m▇\u001b[32m▄\u001b[39m\u001b[39m▃\u001b[39m▆\u001b[39m▃\u001b[39m▄\u001b[39m▁\u001b[39m▅\u001b[39m▃\u001b[39m▄\u001b[39m▁\u001b[39m▂\u001b[39m \u001b[39m \u001b[39m \u001b[39m \u001b[39m \u001b[39m▃\u001b[39m \u001b[39m \u001b[39m \u001b[39m \u001b[39m \u001b[39m \u001b[39m \u001b[39m \u001b[39m \u001b[39m \u001b[39m \u001b[39m \u001b[39m \u001b[39m \u001b[39m \u001b[39m \u001b[39m \u001b[39m \u001b[39m \u001b[39m \u001b[39m \u001b[39m \u001b[39m \u001b[39m \u001b[39m▂\n",
       "  \u001b[39m█\u001b[39m▇\u001b[39m▅\u001b[39m▇\u001b[39m█\u001b[39m█\u001b[39m▆\u001b[39m█\u001b[39m█\u001b[39m█\u001b[39m▆\u001b[39m█\u001b[39m█\u001b[39m█\u001b[39m█\u001b[39m█\u001b[39m█\u001b[34m█\u001b[39m\u001b[39m█\u001b[32m█\u001b[39m\u001b[39m█\u001b[39m█\u001b[39m█\u001b[39m█\u001b[39m█\u001b[39m█\u001b[39m█\u001b[39m█\u001b[39m█\u001b[39m█\u001b[39m█\u001b[39m▇\u001b[39m█\u001b[39m▇\u001b[39m█\u001b[39m█\u001b[39m█\u001b[39m▇\u001b[39m▇\u001b[39m▇\u001b[39m▇\u001b[39m█\u001b[39m▇\u001b[39m▆\u001b[39m▆\u001b[39m▇\u001b[39m▇\u001b[39m▇\u001b[39m▆\u001b[39m▆\u001b[39m▆\u001b[39m▅\u001b[39m▆\u001b[39m▆\u001b[39m▆\u001b[39m▆\u001b[39m▆\u001b[39m▅\u001b[39m▅\u001b[39m \u001b[39m█\n",
       "  21.2 ns\u001b[90m      \u001b[39m\u001b[90mHistogram: \u001b[39m\u001b[90m\u001b[1mlog(\u001b[22m\u001b[39m\u001b[90mfrequency\u001b[39m\u001b[90m\u001b[1m)\u001b[22m\u001b[39m\u001b[90m by time\u001b[39m      31.5 ns \u001b[0m\u001b[1m<\u001b[22m\n",
       "\n",
       " Memory estimate\u001b[90m: \u001b[39m\u001b[33m0 bytes\u001b[39m, allocs estimate\u001b[90m: \u001b[39m\u001b[33m0\u001b[39m."
      ]
     },
     "metadata": {},
     "output_type": "display_data"
    }
   ],
   "source": [
    "using BenchmarkTools\n",
    "@benchmark mysin(0.5)"
   ]
  },
  {
   "cell_type": "markdown",
   "metadata": {},
   "source": [
    "目前，这比它可能的速度要慢得多。原因是我们在循环遍历 `k`，这相对昂贵。写出会快得多："
   ]
  },
  {
   "cell_type": "code",
   "execution_count": 28,
   "metadata": {},
   "outputs": [
    {
     "data": {
      "text/plain": [
       "mysin (generic function with 1 method)"
      ]
     },
     "metadata": {},
     "output_type": "display_data"
    }
   ],
   "source": [
    "mysin(x) = x - x^3/6 + x^5/120 # + ..."
   ]
  },
  {
   "cell_type": "markdown",
   "metadata": {},
   "source": [
    "但这写起来很乏味，而且不再像原始的泰勒级数了。更难判断我们是否犯了错误，而且我们很容易修改它。有没有两全其美的方法呢？\n",
    "\n",
    "让 Julia 为我们写出那段代码怎么样？\n",
    "\n",
    "首先，让我们考虑 `+` 函数的符号版本。"
   ]
  },
  {
   "cell_type": "code",
   "execution_count": 29,
   "metadata": {},
   "outputs": [
    {
     "data": {
      "text/plain": [
       "plus (generic function with 1 method)"
      ]
     },
     "metadata": {},
     "output_type": "display_data"
    }
   ],
   "source": [
    "plus(a, b) = :($a + $b)"
   ]
  },
  {
   "cell_type": "code",
   "execution_count": 30,
   "metadata": {},
   "outputs": [
    {
     "ename": "ErrorException",
     "evalue": "syntax: \"$\" expression outside quote around /Users/shufanzhang/Documents/coderepos/Julia_Tutorials/more-advanced-materials/metaprogramming/jl_notebook_cell_df34fa98e69747e1a8f8a730347b8e2f_Y102sZmlsZQ==.jl:3",
     "output_type": "error",
     "traceback": [
      "syntax: \"$\" expression outside quote around /Users/shufanzhang/Documents/coderepos/Julia_Tutorials/more-advanced-materials/metaprogramming/jl_notebook_cell_df34fa98e69747e1a8f8a730347b8e2f_Y102sZmlsZQ==.jl:3\n",
      "\n",
      "Stacktrace:\n",
      " [1] top-level scope\n",
      "   @ ~/Documents/coderepos/Julia_Tutorials/more-advanced-materials/metaprogramming/jl_notebook_cell_df34fa98e69747e1a8f8a730347b8e2f_Y102sZmlsZQ==.jl:3"
     ]
    }
   ],
   "source": [
    "a= 1\n",
    "b = 2\n",
    "a1 = $a\n",
    "b1 = $b\n"
   ]
  },
  {
   "cell_type": "code",
   "execution_count": 31,
   "metadata": {},
   "outputs": [
    {
     "name": "stdout",
     "output_type": "stream",
     "text": [
      "(1 + 2 + 3) + 4 + 5 + 6\n",
      "21\n"
     ]
    }
   ],
   "source": [
    "expp = :(1+2+3)\n",
    "qq = :($expp+4+5+6)\n",
    "println(qq)\n",
    "\n",
    "ex = eval(qq)\n",
    "println(ex)"
   ]
  },
  {
   "cell_type": "code",
   "execution_count": 32,
   "metadata": {},
   "outputs": [
    {
     "data": {
      "text/plain": [
       ":(1 + 2)"
      ]
     },
     "metadata": {},
     "output_type": "display_data"
    }
   ],
   "source": [
    "plus(1, 2)"
   ]
  },
  {
   "cell_type": "markdown",
   "metadata": {},
   "source": [
    "有了 `plus`，我们可以做更有趣的事情，比如符号 `sum`："
   ]
  },
  {
   "cell_type": "code",
   "execution_count": 33,
   "metadata": {},
   "outputs": [
    {
     "data": {
      "text/plain": [
       "55"
      ]
     },
     "metadata": {},
     "output_type": "display_data"
    }
   ],
   "source": [
    "reduce(+, 1:10)"
   ]
  },
  {
   "cell_type": "code",
   "execution_count": 34,
   "metadata": {},
   "outputs": [
    {
     "data": {
      "text/plain": [
       ":(((((((((1 + 2) + 3) + 4) + 5) + 6) + 7) + 8) + 9) + 10)"
      ]
     },
     "metadata": {},
     "output_type": "display_data"
    }
   ],
   "source": [
    "reduce(plus, 1:10)"
   ]
  },
  {
   "cell_type": "code",
   "execution_count": 35,
   "metadata": {},
   "outputs": [],
   "source": [
    "eval(ans)"
   ]
  },
  {
   "cell_type": "markdown",
   "metadata": {},
   "source": [
    "鉴于此，我们也可以对符号变量求和。"
   ]
  },
  {
   "cell_type": "code",
   "execution_count": 36,
   "metadata": {},
   "outputs": [
    {
     "data": {
      "text/plain": [
       ":((x ^ 2 + x) + 1)"
      ]
     },
     "metadata": {},
     "output_type": "display_data"
    }
   ],
   "source": [
    "reduce(plus, [:(x^2), :x, 1])"
   ]
  },
  {
   "cell_type": "markdown",
   "metadata": {},
   "source": [
    "这为我们提供了谜题的重要组成部分，但我们还需要弄清楚我们正在对*什么*求和。让我们创建上面泰勒级数的符号版本，它对 `k` 的值进行插值。"
   ]
  },
  {
   "cell_type": "code",
   "execution_count": 37,
   "metadata": {},
   "outputs": [
    {
     "data": {
      "text/plain": [
       ":((1 * x ^ 5) / 120)"
      ]
     },
     "metadata": {},
     "output_type": "display_data"
    }
   ],
   "source": [
    "k = 2\n",
    ":($((-1)^k) * x^$(1+2k) / $(factorial(1+2k)))"
   ]
  },
  {
   "cell_type": "markdown",
   "metadata": {},
   "source": [
    "现在我们有了一项，我们可以根据需要生成任意多项。"
   ]
  },
  {
   "cell_type": "code",
   "execution_count": 38,
   "metadata": {},
   "outputs": [
    {
     "data": {
      "text/plain": [
       "6-element Vector{Expr}:\n",
       " :((1 * x ^ 1) / 1)\n",
       " :((-1 * x ^ 3) / 6)\n",
       " :((1 * x ^ 5) / 120)\n",
       " :((-1 * x ^ 7) / 5040)\n",
       " :((1 * x ^ 9) / 362880)\n",
       " :((-1 * x ^ 11) / 39916800)"
      ]
     },
     "metadata": {},
     "output_type": "display_data"
    }
   ],
   "source": [
    "terms = [:($((-1)^k) * x^$(1+2k) / $(factorial(1+2k))) for k = 0:5]"
   ]
  },
  {
   "cell_type": "markdown",
   "metadata": {},
   "source": [
    "然后对它们求和 –"
   ]
  },
  {
   "cell_type": "code",
   "execution_count": 39,
   "metadata": {},
   "outputs": [
    {
     "data": {
      "text/plain": [
       ":((((((1 * x ^ 1) / 1 + (-1 * x ^ 3) / 6) + (1 * x ^ 5) / 120) + (-1 * x ^ 7) / 5040) + (1 * x ^ 9) / 362880) + (-1 * x ^ 11) / 39916800)"
      ]
     },
     "metadata": {},
     "output_type": "display_data"
    }
   ],
   "source": [
    "reduce(plus, terms)"
   ]
  },
  {
   "cell_type": "markdown",
   "metadata": {},
   "source": [
    "并从中创建一个函数定义："
   ]
  },
  {
   "cell_type": "code",
   "execution_count": 40,
   "metadata": {},
   "outputs": [
    {
     "data": {
      "text/plain": [
       ":(mysin(x) = begin\n",
       "          \u001b[90m#= /Users/shufanzhang/Documents/coderepos/Julia_Tutorials/more-advanced-materials/metaprogramming/jl_notebook_cell_df34fa98e69747e1a8f8a730347b8e2f_Y124sZmlsZQ==.jl:1 =#\u001b[39m\n",
       "          Expr[:((1 * x ^ 1) / 1), :((-1 * x ^ 3) / 6), :((1 * x ^ 5) / 120), :((-1 * x ^ 7) / 5040), :((1 * x ^ 9) / 362880), :((-1 * x ^ 11) / 39916800)]\n",
       "      end)"
      ]
     },
     "metadata": {},
     "output_type": "display_data"
    }
   ],
   "source": [
    ":(mysin(x) = $terms)"
   ]
  },
  {
   "cell_type": "code",
   "execution_count": 41,
   "metadata": {},
   "outputs": [],
   "source": [
    "eval(ans)"
   ]
  },
  {
   "cell_type": "code",
   "execution_count": 42,
   "metadata": {},
   "outputs": [
    {
     "data": {
      "text/plain": [
       "(0.47942708333333334, 0.479425538604203)"
      ]
     },
     "metadata": {},
     "output_type": "display_data"
    }
   ],
   "source": [
    "mysin(0.5), sin(0.5)"
   ]
  },
  {
   "cell_type": "code",
   "execution_count": 43,
   "metadata": {},
   "outputs": [
    {
     "data": {
      "text/plain": [
       "BenchmarkTools.Trial: 10000 samples with 1000 evaluations per sample.\n",
       " Range \u001b[90m(\u001b[39m\u001b[36m\u001b[1mmin\u001b[22m\u001b[39m … \u001b[35mmax\u001b[39m\u001b[90m):  \u001b[39m\u001b[36m\u001b[1m0.833 ns\u001b[22m\u001b[39m … \u001b[35m23.167 ns\u001b[39m  \u001b[90m┊\u001b[39m GC \u001b[90m(\u001b[39mmin … max\u001b[90m): \u001b[39m0.00% … 0.00%\n",
       " Time  \u001b[90m(\u001b[39m\u001b[34m\u001b[1mmedian\u001b[22m\u001b[39m\u001b[90m):     \u001b[39m\u001b[34m\u001b[1m0.917 ns              \u001b[22m\u001b[39m\u001b[90m┊\u001b[39m GC \u001b[90m(\u001b[39mmedian\u001b[90m):    \u001b[39m0.00%\n",
       " Time  \u001b[90m(\u001b[39m\u001b[32m\u001b[1mmean\u001b[22m\u001b[39m ± \u001b[32mσ\u001b[39m\u001b[90m):   \u001b[39m\u001b[32m\u001b[1m0.979 ns\u001b[22m\u001b[39m ± \u001b[32m 0.487 ns\u001b[39m  \u001b[90m┊\u001b[39m GC \u001b[90m(\u001b[39mmean ± σ\u001b[90m):  \u001b[39m0.00% ± 0.00%\n",
       "\n",
       "  \u001b[39m \u001b[39m \u001b[39m \u001b[39m \u001b[39m▅\u001b[39m \u001b[39m \u001b[39m \u001b[39m \u001b[39m█\u001b[34m \u001b[39m\u001b[39m \u001b[39m \u001b[39m \u001b[39m▃\u001b[39m \u001b[39m \u001b[32m \u001b[39m\u001b[39m \u001b[39m▇\u001b[39m \u001b[39m \u001b[39m \u001b[39m \u001b[39m▄\u001b[39m \u001b[39m \u001b[39m \u001b[39m \u001b[39m \u001b[39m \u001b[39m \u001b[39m \u001b[39m \u001b[39m \u001b[39m \u001b[39m \u001b[39m \u001b[39m \u001b[39m \u001b[39m \u001b[39m \u001b[39m \u001b[39m \u001b[39m \u001b[39m \u001b[39m \u001b[39m \u001b[39m▂\u001b[39m \u001b[39m \u001b[39m \u001b[39m \u001b[39m▂\u001b[39m \u001b[39m \u001b[39m \u001b[39m \u001b[39m \u001b[39m▂\n",
       "  \u001b[39m▆\u001b[39m▁\u001b[39m▁\u001b[39m▁\u001b[39m█\u001b[39m▁\u001b[39m▁\u001b[39m▁\u001b[39m▁\u001b[39m█\u001b[34m▁\u001b[39m\u001b[39m▁\u001b[39m▁\u001b[39m▁\u001b[39m█\u001b[39m▁\u001b[39m▁\u001b[32m▁\u001b[39m\u001b[39m▁\u001b[39m█\u001b[39m▁\u001b[39m▁\u001b[39m▁\u001b[39m▁\u001b[39m█\u001b[39m▁\u001b[39m▁\u001b[39m▁\u001b[39m█\u001b[39m▇\u001b[39m▁\u001b[39m▁\u001b[39m▁\u001b[39m█\u001b[39m▁\u001b[39m▁\u001b[39m▁\u001b[39m▁\u001b[39m▅\u001b[39m▁\u001b[39m▁\u001b[39m▁\u001b[39m▁\u001b[39m▅\u001b[39m▁\u001b[39m▁\u001b[39m▁\u001b[39m▁\u001b[39m█\u001b[39m▁\u001b[39m▁\u001b[39m▁\u001b[39m▁\u001b[39m█\u001b[39m▁\u001b[39m▁\u001b[39m▁\u001b[39m▆\u001b[39m \u001b[39m█\n",
       "  0.833 ns\u001b[90m     \u001b[39m\u001b[90mHistogram: \u001b[39m\u001b[90m\u001b[1mlog(\u001b[22m\u001b[39m\u001b[90mfrequency\u001b[39m\u001b[90m\u001b[1m)\u001b[22m\u001b[39m\u001b[90m by time\u001b[39m     1.33 ns \u001b[0m\u001b[1m<\u001b[22m\n",
       "\n",
       " Memory estimate\u001b[90m: \u001b[39m\u001b[33m0 bytes\u001b[39m, allocs estimate\u001b[90m: \u001b[39m\u001b[33m0\u001b[39m."
      ]
     },
     "metadata": {},
     "output_type": "display_data"
    }
   ],
   "source": [
    "@benchmark mysin(0.5)"
   ]
  },
  {
   "cell_type": "markdown",
   "metadata": {},
   "source": [
    "在我的机器上，`sin2` 大约需要 50 *纳*秒才能运行——对于一个朴素的实现来说还不错。如果我们向光子发起 20 米短跑挑战，我们会赢！"
   ]
  },
  {
   "cell_type": "markdown",
   "metadata": {},
   "source": [
    "## 表达式之下"
   ]
  },
  {
   "cell_type": "markdown",
   "metadata": {},
   "source": [
    "它实际上只是一个普通的树形数据结构，我们可以查看它的内部。"
   ]
  },
  {
   "cell_type": "code",
   "execution_count": 44,
   "metadata": {},
   "outputs": [
    {
     "name": "stdout",
     "output_type": "stream",
     "text": [
      "ex.head = :call\n",
      "ex.args = Any[:f, :x, :y]\n"
     ]
    }
   ],
   "source": [
    "ex = :(f(x, y))\n",
    "#ex = Expr(:call, :f, :x, :y)\n",
    "@show ex.head;\n",
    "@show ex.args;"
   ]
  },
  {
   "cell_type": "markdown",
   "metadata": {},
   "source": [
    "在上面的示例中，我们在字符串中将 `+` 替换为 `-`。在表达式中，我们可以通过更改表达式的 `.args` 来做到这一点。"
   ]
  },
  {
   "cell_type": "code",
   "execution_count": 45,
   "metadata": {},
   "outputs": [
    {
     "name": "stdout",
     "output_type": "stream",
     "text": [
      "ex.head = :call\n",
      "ex.args = Any[:+, 2, 2]\n"
     ]
    }
   ],
   "source": [
    "ex = :(2+2)\n",
    "@show ex.head;\n",
    "@show ex.args;\n"
   ]
  },
  {
   "cell_type": "code",
   "execution_count": 46,
   "metadata": {},
   "outputs": [
    {
     "data": {
      "text/plain": [
       ":(2 - 2)"
      ]
     },
     "metadata": {},
     "output_type": "display_data"
    }
   ],
   "source": [
    "ex.args[1] = :-\n",
    "ex"
   ]
  },
  {
   "cell_type": "code",
   "execution_count": 47,
   "metadata": {},
   "outputs": [
    {
     "data": {
      "text/plain": [
       "0"
      ]
     },
     "metadata": {},
     "output_type": "display_data"
    }
   ],
   "source": [
    "eval(ex)"
   ]
  },
  {
   "cell_type": "markdown",
   "metadata": {},
   "source": [
    "请注意，更大、更复杂的表达式比这要复杂一些。它们是*嵌套*的，这意味着表达式 `2+3` 包含在更大的表达式 `1 + (2 + 3)` 中。"
   ]
  },
  {
   "cell_type": "code",
   "execution_count": 48,
   "metadata": {},
   "outputs": [
    {
     "data": {
      "text/plain": [
       ":(1 + (2 + 3))"
      ]
     },
     "metadata": {},
     "output_type": "display_data"
    }
   ],
   "source": [
    "ex = :(1 + (2 + 3))"
   ]
  },
  {
   "cell_type": "code",
   "execution_count": 49,
   "metadata": {},
   "outputs": [
    {
     "data": {
      "text/plain": [
       "3-element Vector{Any}:\n",
       "  :+\n",
       " 1\n",
       "  :(2 + 3)"
      ]
     },
     "metadata": {},
     "output_type": "display_data"
    }
   ],
   "source": [
    "ex.args"
   ]
  },
  {
   "cell_type": "markdown",
   "metadata": {},
   "source": [
    "一个名为 MacroTools 的包提供了一种处理此问题的方法。它依次向我们显示*所有*子表达式，允许我们决定如何更改它们。可以将其视为类似于查找和替换操作。这是一个在表达式中查找所有整数并将其递增的示例。"
   ]
  },
  {
   "cell_type": "code",
   "execution_count": 50,
   "metadata": {},
   "outputs": [],
   "source": [
    "# import Pkg; Pkg.add(\"MacroTools\")\n",
    "using MacroTools\n",
    "using MacroTools: postwalk"
   ]
  },
  {
   "cell_type": "code",
   "execution_count": 51,
   "metadata": {},
   "outputs": [],
   "source": [
    "# postwalk(ex)"
   ]
  },
  {
   "cell_type": "code",
   "execution_count": 52,
   "metadata": {},
   "outputs": [
    {
     "data": {
      "text/plain": [
       ":(2 + (3 + 4))"
      ]
     },
     "metadata": {},
     "output_type": "display_data"
    }
   ],
   "source": [
    "postwalk(ex) do x\n",
    "  x isa Integer ? x+1 : x\n",
    "end\n",
    "# This will traverse the expression `ex` and increment every integer it finds by 1."
   ]
  },
  {
   "cell_type": "markdown",
   "metadata": {},
   "source": [
    "要了解正在发生的事情，您可以使用 `@show` 来查看 `postwalk` 看到了什么。\n",
    "\n",
    "（`@show` 是 Julia 最有用的功能；如果您不理解代码在做什么，请将其放入并查看正在发生的事情。）"
   ]
  },
  {
   "cell_type": "code",
   "execution_count": 53,
   "metadata": {},
   "outputs": [
    {
     "name": "stdout",
     "output_type": "stream",
     "text": [
      "x = 1\n",
      "x = 2\n",
      "x = 3\n"
     ]
    },
    {
     "data": {
      "text/plain": [
       "3-element Vector{Int64}:\n",
       " 1\n",
       " 2\n",
       " 3"
      ]
     },
     "metadata": {},
     "output_type": "display_data"
    }
   ],
   "source": [
    "map(x -> @show(x), [1,2,3])"
   ]
  },
  {
   "cell_type": "code",
   "execution_count": 54,
   "metadata": {},
   "outputs": [
    {
     "name": "stdout",
     "output_type": "stream",
     "text": [
      "x = :+\n",
      "x = 1\n",
      "x = :+\n",
      "x = 2\n",
      "x = 3\n",
      "x = :(2 + 3)\n",
      "x = :(1 + (2 + 3))\n"
     ]
    },
    {
     "data": {
      "text/plain": [
       ":(1 + (2 + 3))"
      ]
     },
     "metadata": {},
     "output_type": "display_data"
    }
   ],
   "source": [
    "postwalk(ex) do x\n",
    "  @show x\n",
    "end"
   ]
  },
  {
   "cell_type": "markdown",
   "metadata": {},
   "source": [
    "MacroTools 还提供了用于对表达式进行*模式匹配*的工具。`a_ + b_` 充当模板；如果提供的表达式看起来像模板，则 `a` 和 `b` 将匹配相加的两个事物。如果不是，它们将只是 `nothing`。"
   ]
  },
  {
   "cell_type": "code",
   "execution_count": 55,
   "metadata": {},
   "outputs": [
    {
     "data": {
      "text/plain": [
       "true"
      ]
     },
     "metadata": {},
     "output_type": "display_data"
    }
   ],
   "source": [
    "ex = :(2 + 3)\n",
    "@capture(ex, a_ + b_)"
   ]
  },
  {
   "cell_type": "code",
   "execution_count": 56,
   "metadata": {},
   "outputs": [
    {
     "data": {
      "text/plain": [
       "(2, 3)"
      ]
     },
     "metadata": {},
     "output_type": "display_data"
    }
   ],
   "source": [
    "a, b"
   ]
  },
  {
   "cell_type": "code",
   "execution_count": 57,
   "metadata": {},
   "outputs": [
    {
     "data": {
      "text/plain": [
       "false"
      ]
     },
     "metadata": {},
     "output_type": "display_data"
    }
   ],
   "source": [
    "ex = :(f(2,3))\n",
    "@capture(ex, a_ + b_)"
   ]
  },
  {
   "cell_type": "code",
   "execution_count": 58,
   "metadata": {},
   "outputs": [
    {
     "data": {
      "text/plain": [
       "(nothing, nothing)"
      ]
     },
     "metadata": {},
     "output_type": "display_data"
    }
   ],
   "source": [
    "a, b"
   ]
  },
  {
   "cell_type": "markdown",
   "metadata": {},
   "source": [
    "我们最终可以使用它来替换表达式中*所有*的 `+` 为 `-`，而不仅仅是一个。"
   ]
  },
  {
   "cell_type": "code",
   "execution_count": 59,
   "metadata": {},
   "outputs": [
    {
     "data": {
      "text/plain": [
       ":(3 * x ^ 2 + (2x + 1))"
      ]
     },
     "metadata": {},
     "output_type": "display_data"
    }
   ],
   "source": [
    "ex = :(3x^2 + (2x + 1))"
   ]
  },
  {
   "cell_type": "code",
   "execution_count": 60,
   "metadata": {},
   "outputs": [
    {
     "data": {
      "text/plain": [
       ":(3 * x ^ 2 - (2x - 1))"
      ]
     },
     "metadata": {},
     "output_type": "display_data"
    }
   ],
   "source": [
    "postwalk(ex) do x\n",
    "  @capture(x, a_ + b_) || return x\n",
    "  :($a - $b)\n",
    "end"
   ]
  },
  {
   "cell_type": "code",
   "execution_count": 61,
   "metadata": {},
   "outputs": [
    {
     "data": {
      "text/plain": [
       "@say_hello (macro with 1 method)"
      ]
     },
     "metadata": {},
     "output_type": "display_data"
    }
   ],
   "source": [
    "macro say_hello(name)\n",
    "    return quote\n",
    "            println(\"Hello, \", $(esc(name)))\n",
    "        end\n",
    "end"
   ]
  },
  {
   "cell_type": "code",
   "execution_count": 62,
   "metadata": {},
   "outputs": [
    {
     "data": {
      "text/plain": [
       "quote\n",
       "    \u001b[90m#= /Users/shufanzhang/Documents/coderepos/Julia_Tutorials/more-advanced-materials/metaprogramming/jl_notebook_cell_df34fa98e69747e1a8f8a730347b8e2f_Y166sZmlsZQ==.jl:3 =#\u001b[39m\n",
       "    Main.println(\"Hello, \", \"Alice\")\n",
       "end"
      ]
     },
     "metadata": {},
     "output_type": "display_data"
    }
   ],
   "source": [
    "@macroexpand @say_hello \"Alice\"\n"
   ]
  },
  {
   "cell_type": "code",
   "execution_count": 63,
   "metadata": {},
   "outputs": [
    {
     "data": {
      "text/plain": [
       "@bad_macro (macro with 1 method)"
      ]
     },
     "metadata": {},
     "output_type": "display_data"
    }
   ],
   "source": [
    "macro bad_macro(x)\n",
    "    quote\n",
    "        esc($x) = 42\n",
    "    end\n",
    "end"
   ]
  },
  {
   "cell_type": "code",
   "execution_count": 64,
   "metadata": {},
   "outputs": [
    {
     "name": "stdout",
     "output_type": "stream",
     "text": [
      "Hello\n"
     ]
    }
   ],
   "source": [
    "x = \"Hello\"\n",
    "@bad_macro(x)\n",
    "println(x)  "
   ]
  },
  {
   "cell_type": "code",
   "execution_count": 65,
   "metadata": {},
   "outputs": [
    {
     "data": {
      "text/plain": [
       "quote\n",
       "    \u001b[90m#= /Users/shufanzhang/Documents/coderepos/Julia_Tutorials/more-advanced-materials/metaprogramming/jl_notebook_cell_df34fa98e69747e1a8f8a730347b8e2f_Y201sZmlsZQ==.jl:3 =#\u001b[39m\n",
       "    var\"#96#esc\"(var\"#97#x\") = begin\n",
       "            \u001b[90m#= /Users/shufanzhang/Documents/coderepos/Julia_Tutorials/more-advanced-materials/metaprogramming/jl_notebook_cell_df34fa98e69747e1a8f8a730347b8e2f_Y201sZmlsZQ==.jl:3 =#\u001b[39m\n",
       "            42\n",
       "        end\n",
       "end"
      ]
     },
     "metadata": {},
     "output_type": "display_data"
    }
   ],
   "source": [
    "@macroexpand @bad_macro x"
   ]
  },
  {
   "cell_type": "markdown",
   "metadata": {},
   "source": [
    "\n",
    "## 卫生宏 (Hygienic Macros) 和 `esc`\n"
   ]
  },
  {
   "cell_type": "markdown",
   "metadata": {},
   "source": [
    "\n",
    "宏在默认情况下是*卫生的*。这意味着宏内部创建的变量不会与调用宏的代码中的变量发生冲突。这可以防止意外的名称冲突和错误。\n"
   ]
  },
  {
   "cell_type": "code",
   "execution_count": 66,
   "metadata": {},
   "outputs": [
    {
     "name": "stdout",
     "output_type": "stream",
     "text": [
      "I am local to the macro\n"
     ]
    }
   ],
   "source": [
    "\n",
    "macro hygienic_macro()\n",
    "    quote\n",
    "        local_var = \"I am local to the macro\"\n",
    "        println(local_var)\n",
    "    end\n",
    "end\n",
    "\n",
    "@hygienic_macro()\n",
    "# println(local_var) # This would cause an UndefVarError because local_var is hygienic\n"
   ]
  },
  {
   "cell_type": "markdown",
   "metadata": {},
   "source": [
    "\n",
    "在上面的例子中，`local_var` 是宏的局部变量，在宏外部不可见。\n",
    "\n",
    "然而，有时您希望宏能够访问或修改调用者作用域中的变量。这就是 `esc` 的用途。`esc` (escape) 允许您将表达式标记为应该在调用者的作用域中进行求值，而不是在宏的卫生作用域中。\n"
   ]
  },
  {
   "cell_type": "code",
   "execution_count": 67,
   "metadata": {},
   "outputs": [
    {
     "name": "stdout",
     "output_type": "stream",
     "text": [
      "x after macro: 20\n",
      "y after macro: world\n"
     ]
    }
   ],
   "source": [
    "\n",
    "macro assign_to_caller(var_name, value)\n",
    "    quote\n",
    "        $(esc(var_name)) = $(esc(value))\n",
    "    end\n",
    "end\n",
    "\n",
    "x = 10\n",
    "@assign_to_caller(x, 20)\n",
    "println(\"x after macro: \", x) # x will be 20\n",
    "\n",
    "y = \"hello\"\n",
    "@assign_to_caller(y, \"world\")\n",
    "println(\"y after macro: \", y) # y will be \"world\"\n"
   ]
  },
  {
   "cell_type": "code",
   "execution_count": 68,
   "metadata": {},
   "outputs": [
    {
     "name": "stdout",
     "output_type": "stream",
     "text": [
      "theX after macro: 20\n"
     ]
    }
   ],
   "source": [
    "\n",
    "macro assign_to_caller_new(theX,value)\n",
    "    quote\n",
    "        $(esc(theX)) = $(esc(value))\n",
    "    end\n",
    "end\n",
    "\n",
    "theX = 10\n",
    "@assign_to_caller_new(theX,20)\n",
    "println(\"theX after macro: \", theX) # x will be 20\n"
   ]
  },
  {
   "cell_type": "markdown",
   "metadata": {},
   "source": [
    "\n",
    "在这个例子中：\n",
    "- `$(esc(var_name))` 确保 `var_name` (例如 `x`) 指的是调用者作用域中的变量 `x`，而不是宏内部的新变量。\n",
    "- `$(esc(value))` 确保 `value` (例如 `20`) 在调用者的作用域中进行求值（如果它是一个表达式）。对于字面量如 `20` 或 `\"world\"`，`esc` 的效果不那么明显，但对于更复杂的表达式则很重要。\n",
    "\n",
    "`esc` 对于编写需要与周围代码交互的宏至关重要，例如定义新变量或修改现有变量的宏。\n",
    "\n",
    "需要注意的是，过度使用 `esc` 会破坏宏的卫生性，并可能导致难以调试的名称冲突。因此，只有在确实需要与调用者作用域交互时才应使用它。\n"
   ]
  },
  {
   "cell_type": "markdown",
   "metadata": {},
   "source": [
    "## 宏攻击"
   ]
  },
  {
   "cell_type": "markdown",
   "metadata": {},
   "source": [
    "您可能已经见过宏了——Julia 中的基本功能，如 `@show`、`@time` 和 `@inline` 实际上都是宏。对于基本用法，将它们视为改变代码运行方式的简单注释就足够了。但是我们现在已经足够了解它们在底层是如何工作的了。\n",
    "\n",
    "普通函数从来看不到*代码*，只看到*值*。如果我们将 `2+2` 传递给函数，它会看到 `4`。"
   ]
  },
  {
   "cell_type": "code",
   "execution_count": 69,
   "metadata": {},
   "outputs": [
    {
     "data": {
      "text/plain": [
       "foo (generic function with 2 methods)"
      ]
     },
     "metadata": {},
     "output_type": "display_data"
    }
   ],
   "source": [
    "function foo(x)\n",
    "  @show x\n",
    "  return x\n",
    "end"
   ]
  },
  {
   "cell_type": "code",
   "execution_count": 70,
   "metadata": {},
   "outputs": [
    {
     "name": "stdout",
     "output_type": "stream",
     "text": [
      "x = 4\n"
     ]
    },
    {
     "data": {
      "text/plain": [
       "4"
      ]
     },
     "metadata": {},
     "output_type": "display_data"
    }
   ],
   "source": [
    "foo(2+2)"
   ]
  },
  {
   "cell_type": "markdown",
   "metadata": {},
   "source": [
    "宏非常像函数，但是它们看到的是传递给它们的*代码*，就像我们上面看到的表达式一样。宏有机会操作此代码并更改其行为方式。"
   ]
  },
  {
   "cell_type": "code",
   "execution_count": 71,
   "metadata": {},
   "outputs": [
    {
     "data": {
      "text/plain": [
       "@foo (macro with 1 method)"
      ]
     },
     "metadata": {},
     "output_type": "display_data"
    }
   ],
   "source": [
    "macro foo(x)\n",
    "  @show x\n",
    "  return x\n",
    "end"
   ]
  },
  {
   "cell_type": "code",
   "execution_count": 72,
   "metadata": {},
   "outputs": [
    {
     "name": "stdout",
     "output_type": "stream",
     "text": [
      "x = :(2 + 2)\n"
     ]
    },
    {
     "data": {
      "text/plain": [
       "4"
      ]
     },
     "metadata": {},
     "output_type": "display_data"
    }
   ],
   "source": [
    "@foo(2+2)"
   ]
  },
  {
   "cell_type": "markdown",
   "metadata": {},
   "source": [
    "举一个简单的例子，我们可以替换 `+` 的一个参数并得到不同的结果。"
   ]
  },
  {
   "cell_type": "code",
   "execution_count": 73,
   "metadata": {},
   "outputs": [
    {
     "data": {
      "text/plain": [
       "@foo (macro with 1 method)"
      ]
     },
     "metadata": {},
     "output_type": "display_data"
    }
   ],
   "source": [
    "macro foo(x)\n",
    "  x.args[2] = 5\n",
    "  return x\n",
    "end"
   ]
  },
  {
   "cell_type": "code",
   "execution_count": 74,
   "metadata": {},
   "outputs": [
    {
     "data": {
      "text/plain": [
       "7"
      ]
     },
     "metadata": {},
     "output_type": "display_data"
    }
   ],
   "source": [
    "@foo(2+2)"
   ]
  },
  {
   "cell_type": "markdown",
   "metadata": {},
   "source": [
    "MacroTools 提供了一个有用的工具 `@expand`，用于查看宏内部发生了什么；它揭示了宏返回的代码而不运行它。"
   ]
  },
  {
   "cell_type": "code",
   "execution_count": 75,
   "metadata": {},
   "outputs": [
    {
     "data": {
      "text/plain": [
       ":(5 + 2)"
      ]
     },
     "metadata": {},
     "output_type": "display_data"
    }
   ],
   "source": [
    "@expand @foo(2+2)"
   ]
  },
  {
   "cell_type": "code",
   "execution_count": 76,
   "metadata": {},
   "outputs": [
    {
     "data": {
      "text/plain": [
       ":(5 + 2)"
      ]
     },
     "metadata": {},
     "output_type": "display_data"
    }
   ],
   "source": [
    "@macroexpand @foo(2+2)"
   ]
  },
  {
   "cell_type": "markdown",
   "metadata": {},
   "source": [
    "您当然可以在 Julia 自带的宏上使用它，这是学习它们工作原理的好方法。"
   ]
  },
  {
   "cell_type": "code",
   "execution_count": 77,
   "metadata": {},
   "outputs": [
    {
     "name": "stdout",
     "output_type": "stream",
     "text": [
      "  0.000000 seconds\n"
     ]
    },
    {
     "data": {
      "text/plain": [
       "4"
      ]
     },
     "metadata": {},
     "output_type": "display_data"
    }
   ],
   "source": [
    "@time 2+2"
   ]
  },
  {
   "cell_type": "code",
   "execution_count": 78,
   "metadata": {},
   "outputs": [
    {
     "data": {
      "text/plain": [
       "quote\n",
       "    \u001b[90m#= timing.jl:315 =#\u001b[39m\n",
       "    begin\n",
       "        \u001b[90m#= timing.jl:320 =#\u001b[39m\n",
       "        local fly = begin\n",
       "                    \u001b[90m#= timing.jl:574 =#\u001b[39m\n",
       "                    $(Expr(:meta, :force_compile))\n",
       "                    \u001b[90m#= timing.jl:575 =#\u001b[39m\n",
       "                    (Base.Threads).lock_profiling(true)\n",
       "                    \u001b[90m#= timing.jl:576 =#\u001b[39m\n",
       "                    local penguin = (Base.Threads).LOCK_CONFLICT_COUNT[]\n",
       "                    \u001b[90m#= timing.jl:577 =#\u001b[39m\n",
       "                    local locust = Base.gc_num()\n",
       "                    \u001b[90m#= timing.jl:578 =#\u001b[39m\n",
       "                    local grasshopper = Base.time_ns()\n",
       "                    \u001b[90m#= timing.jl:579 =#\u001b[39m\n",
       "                    Base.cumulative_compile_timing(true)\n",
       "                    \u001b[90m#= timing.jl:580 =#\u001b[39m\n",
       "                    local swan = Base.cumulative_compile_time_ns()\n",
       "                    \u001b[90m#= timing.jl:581 =#\u001b[39m\n",
       "                    local goosander = $(Expr(:tryfinally, :(2 + 2), quote\n",
       "    grasshopper = Base.time_ns() - grasshopper\n",
       "    \u001b[90m#= timing.jl:583 =#\u001b[39m\n",
       "    Base.cumulative_compile_timing(false)\n",
       "    \u001b[90m#= timing.jl:584 =#\u001b[39m\n",
       "    swan = Base.cumulative_compile_time_ns() .- swan\n",
       "    \u001b[90m#= timing.jl:585 =#\u001b[39m\n",
       "    penguin = (Base.Threads).LOCK_CONFLICT_COUNT[] - penguin\n",
       "    \u001b[90m#= timing.jl:586 =#\u001b[39m\n",
       "    (Base.Threads).lock_profiling(false)\n",
       "end))\n",
       "                    \u001b[90m#= timing.jl:588 =#\u001b[39m\n",
       "                    local quelea = Base.GC_Diff(Base.gc_num(), locust)\n",
       "                    \u001b[90m#= timing.jl:589 =#\u001b[39m\n",
       "                    (value = goosander, time = grasshopper / 1.0e9, bytes = quelea.allocd, gctime = quelea.total_time / 1.0e9, gcstats = quelea, lock_conflicts = penguin, compile_time = swan[1] / 1.0e9, recompile_time = swan[2] / 1.0e9)\n",
       "                end\n",
       "        \u001b[90m#= timing.jl:321 =#\u001b[39m\n",
       "        local sanddollar = Base.nothing\n",
       "        \u001b[90m#= timing.jl:322 =#\u001b[39m\n",
       "        Base.time_print(Base.stdout, fly.time * 1.0e9, fly.gcstats.allocd, fly.gcstats.total_time, Base.gc_alloc_count(fly.gcstats), fly.lock_conflicts, fly.compile_time * 1.0e9, fly.recompile_time * 1.0e9, true; msg = sanddollar)\n",
       "        \u001b[90m#= timing.jl:323 =#\u001b[39m\n",
       "        fly.value\n",
       "    end\n",
       "end"
      ]
     },
     "metadata": {},
     "output_type": "display_data"
    }
   ],
   "source": [
    "@expand @time 2+2"
   ]
  },
  {
   "cell_type": "markdown",
   "metadata": {},
   "source": [
    "让我们做一些更高级的事情。使用我们上面开发的技术，我们可以在代码中查找并替换 `+` 表达式。我们仍然会进行加法运算，但我们也会记录我们添加的内容以进行调试。\n",
    "\n",
    "首先，让我们使用引号创建一个示例表达式。"
   ]
  },
  {
   "cell_type": "code",
   "execution_count": 79,
   "metadata": {},
   "outputs": [
    {
     "data": {
      "text/plain": [
       "quote\n",
       "    \u001b[90m#= /Users/shufanzhang/Documents/coderepos/Julia_Tutorials/more-advanced-materials/metaprogramming/jl_notebook_cell_df34fa98e69747e1a8f8a730347b8e2f_Y226sZmlsZQ==.jl:2 =#\u001b[39m\n",
       "    s = 0\n",
       "    \u001b[90m#= /Users/shufanzhang/Documents/coderepos/Julia_Tutorials/more-advanced-materials/metaprogramming/jl_notebook_cell_df34fa98e69747e1a8f8a730347b8e2f_Y226sZmlsZQ==.jl:3 =#\u001b[39m\n",
       "    for x = xs\n",
       "        \u001b[90m#= /Users/shufanzhang/Documents/coderepos/Julia_Tutorials/more-advanced-materials/metaprogramming/jl_notebook_cell_df34fa98e69747e1a8f8a730347b8e2f_Y226sZmlsZQ==.jl:4 =#\u001b[39m\n",
       "        s = s + x\n",
       "        \u001b[90m#= /Users/shufanzhang/Documents/coderepos/Julia_Tutorials/more-advanced-materials/metaprogramming/jl_notebook_cell_df34fa98e69747e1a8f8a730347b8e2f_Y226sZmlsZQ==.jl:5 =#\u001b[39m\n",
       "    end\n",
       "    \u001b[90m#= /Users/shufanzhang/Documents/coderepos/Julia_Tutorials/more-advanced-materials/metaprogramming/jl_notebook_cell_df34fa98e69747e1a8f8a730347b8e2f_Y226sZmlsZQ==.jl:6 =#\u001b[39m\n",
       "    return s\n",
       "end"
      ]
     },
     "metadata": {},
     "output_type": "display_data"
    }
   ],
   "source": [
    "ex = quote\n",
    "  s = 0\n",
    "  for x in xs\n",
    "    s = s + x\n",
    "  end\n",
    "  return s\n",
    "end"
   ]
  },
  {
   "cell_type": "markdown",
   "metadata": {},
   "source": [
    "我们可以使用 `ex` 来开发我们想要的代码转换，并检查代码是否做了正确的事情。"
   ]
  },
  {
   "cell_type": "code",
   "execution_count": 80,
   "metadata": {},
   "outputs": [
    {
     "data": {
      "text/plain": [
       "quote\n",
       "    \u001b[90m#= /Users/shufanzhang/Documents/coderepos/Julia_Tutorials/more-advanced-materials/metaprogramming/jl_notebook_cell_df34fa98e69747e1a8f8a730347b8e2f_Y226sZmlsZQ==.jl:2 =#\u001b[39m\n",
       "    s = 0\n",
       "    \u001b[90m#= /Users/shufanzhang/Documents/coderepos/Julia_Tutorials/more-advanced-materials/metaprogramming/jl_notebook_cell_df34fa98e69747e1a8f8a730347b8e2f_Y226sZmlsZQ==.jl:3 =#\u001b[39m\n",
       "    for x = xs\n",
       "        \u001b[90m#= /Users/shufanzhang/Documents/coderepos/Julia_Tutorials/more-advanced-materials/metaprogramming/jl_notebook_cell_df34fa98e69747e1a8f8a730347b8e2f_Y226sZmlsZQ==.jl:4 =#\u001b[39m\n",
       "        s = begin\n",
       "                \u001b[90m#= /Users/shufanzhang/Documents/coderepos/Julia_Tutorials/more-advanced-materials/metaprogramming/jl_notebook_cell_df34fa98e69747e1a8f8a730347b8e2f_Y231sZmlsZQ==.jl:4 =#\u001b[39m\n",
       "                println(\"Adding \" * string(s) * \" to \" * string(x))\n",
       "                \u001b[90m#= /Users/shufanzhang/Documents/coderepos/Julia_Tutorials/more-advanced-materials/metaprogramming/jl_notebook_cell_df34fa98e69747e1a8f8a730347b8e2f_Y231sZmlsZQ==.jl:5 =#\u001b[39m\n",
       "                s + x\n",
       "            end\n",
       "        \u001b[90m#= /Users/shufanzhang/Documents/coderepos/Julia_Tutorials/more-advanced-materials/metaprogramming/jl_notebook_cell_df34fa98e69747e1a8f8a730347b8e2f_Y226sZmlsZQ==.jl:5 =#\u001b[39m\n",
       "    end\n",
       "    \u001b[90m#= /Users/shufanzhang/Documents/coderepos/Julia_Tutorials/more-advanced-materials/metaprogramming/jl_notebook_cell_df34fa98e69747e1a8f8a730347b8e2f_Y226sZmlsZQ==.jl:6 =#\u001b[39m\n",
       "    return s\n",
       "end"
      ]
     },
     "metadata": {},
     "output_type": "display_data"
    }
   ],
   "source": [
    "postwalk(ex) do x\n",
    "  @capture(x, a_ + b_) || return x\n",
    "  quote\n",
    "    println(\"Adding \" * string($a) * \" to \" * string($b))\n",
    "    $x\n",
    "  end\n",
    "end"
   ]
  },
  {
   "cell_type": "markdown",
   "metadata": {},
   "source": [
    "现在我们只需将其包装在一个宏中，就可以将其添加到普通的函数定义中了！"
   ]
  },
  {
   "cell_type": "code",
   "execution_count": 81,
   "metadata": {},
   "outputs": [
    {
     "data": {
      "text/plain": [
       "@log_adds (macro with 1 method)"
      ]
     },
     "metadata": {},
     "output_type": "display_data"
    }
   ],
   "source": [
    "macro log_adds(ex)\n",
    "  postwalk(ex) do x\n",
    "    @capture(x, a_ + b_) || return x\n",
    "    quote\n",
    "      println(\"Adding \" * string($a) * \" to \" * string($b))\n",
    "      $x\n",
    "    end\n",
    "  end\n",
    "end"
   ]
  },
  {
   "cell_type": "code",
   "execution_count": 82,
   "metadata": {},
   "outputs": [
    {
     "data": {
      "text/plain": [
       "mysum (generic function with 1 method)"
      ]
     },
     "metadata": {},
     "output_type": "display_data"
    }
   ],
   "source": [
    "@log_adds function mysum(xs)\n",
    "  sum = 0\n",
    "  for x in xs\n",
    "    sum = sum + x\n",
    "  end\n",
    "  return sum\n",
    "end"
   ]
  },
  {
   "cell_type": "code",
   "execution_count": 83,
   "metadata": {},
   "outputs": [
    {
     "name": "stdout",
     "output_type": "stream",
     "text": [
      "Adding 0 to 1\n",
      "Adding 1 to 2\n",
      "Adding 3 to 3\n",
      "Adding 6 to 4\n",
      "Adding 10 to 5\n",
      "Adding 15 to 6\n",
      "Adding 21 to 7\n",
      "Adding 28 to 8\n",
      "Adding 36 to 9\n",
      "Adding 45 to 10\n",
      "Adding 1 to 2\n",
      "Adding 3 to 3\n",
      "Adding 6 to 4\n",
      "Adding 10 to 5\n",
      "Adding 15 to 6\n",
      "Adding 21 to 7\n",
      "Adding 28 to 8\n",
      "Adding 36 to 9\n",
      "Adding 45 to 10\n"
     ]
    },
    {
     "data": {
      "text/plain": [
       "55"
      ]
     },
     "metadata": {},
     "output_type": "display_data"
    }
   ],
   "source": [
    "mysum(1:10)"
   ]
  },
  {
   "cell_type": "markdown",
   "metadata": {},
   "source": [
    "添加和删除 `@log_adds` 比手动插入调试调用要好得多，尤其是在代码中有很多 `+` 的情况下。也许您可以扩展宏以支持记录其他运算符，例如 `-`。"
   ]
  },
  {
   "cell_type": "markdown",
   "metadata": {},
   "source": [
    "## 生成函数"
   ]
  },
  {
   "cell_type": "markdown",
   "metadata": {},
   "source": [
    "_生成函数_是 Julia 独有的一种新的元编程工具。本节将简要描述和说明它们，[这篇博文](http://mikeinnes.github.io/2017/08/24/cudanative.html)为感兴趣的读者提供了更多示例。\n",
    "\n",
    "从本质上讲，生成函数就像一个作用于*类型*而不是表达式树的宏。如果我们尝试检查参数，我们将看到它们的类型而不是它们的值。"
   ]
  },
  {
   "cell_type": "code",
   "execution_count": 84,
   "metadata": {},
   "outputs": [
    {
     "data": {
      "text/plain": [
       "gadd (generic function with 1 method)"
      ]
     },
     "metadata": {},
     "output_type": "display_data"
    }
   ],
   "source": [
    "@generated function gadd(a, b)\n",
    "  Core.println(\"a = $a, b = $b\")\n",
    "  :(a+b)\n",
    "end"
   ]
  },
  {
   "cell_type": "code",
   "execution_count": 85,
   "metadata": {},
   "outputs": [
    {
     "name": "stdout",
     "output_type": "stream",
     "text": [
      "a = Int64, b = Float64\n"
     ]
    },
    {
     "data": {
      "text/plain": [
       "7.5"
      ]
     },
     "metadata": {},
     "output_type": "display_data"
    }
   ],
   "source": [
    "gadd(5, 2.5)"
   ]
  },
  {
   "cell_type": "markdown",
   "metadata": {},
   "source": [
    "当处理更复杂的类型时，生成函数会变得更加强大。例如，请注意数组如何在类型内部存储其秩，因此这是我们可以为其生成代码的内容。"
   ]
  },
  {
   "cell_type": "code",
   "execution_count": 86,
   "metadata": {},
   "outputs": [
    {
     "data": {
      "text/plain": [
       "2×2 Matrix{Float64}:\n",
       " 0.330355  0.673685\n",
       " 0.788324  0.325975"
      ]
     },
     "metadata": {},
     "output_type": "display_data"
    }
   ],
   "source": [
    "rand(2,2)"
   ]
  },
  {
   "cell_type": "code",
   "execution_count": 87,
   "metadata": {},
   "outputs": [
    {
     "data": {
      "text/plain": [
       "Nothing"
      ]
     },
     "metadata": {},
     "output_type": "display_data"
    }
   ],
   "source": [
    "typeof(ans)"
   ]
  },
  {
   "cell_type": "markdown",
   "metadata": {},
   "source": [
    "这为什么有用呢？如果您编写处理数组的代码，您会注意到您通常需要为数组的每个维度编写一个 `for` 循环。如果您想处理一个 7D 数组，则需要编写七个嵌套循环！"
   ]
  },
  {
   "cell_type": "code",
   "execution_count": 88,
   "metadata": {},
   "outputs": [
    {
     "data": {
      "text/plain": [
       "mysum (generic function with 3 methods)"
      ]
     },
     "metadata": {},
     "output_type": "display_data"
    }
   ],
   "source": [
    "function mysum(xs::Array{<:Any,1})\n",
    "  sum = 0\n",
    "  for i = 1:length(xs)\n",
    "    sum += xs[i]\n",
    "  end\n",
    "  return sum\n",
    "end\n",
    "\n",
    "function mysum(xs::Array{<:Any,2})\n",
    "  sum = 0\n",
    "  for i = 1:size(xs,1)\n",
    "    for j = 1:size(xs, 2)\n",
    "      sum += xs[i]\n",
    "    end\n",
    "  end\n",
    "  return sum\n",
    "end"
   ]
  },
  {
   "cell_type": "markdown",
   "metadata": {},
   "source": [
    "其他语言只是为向量、矩阵以及可能的 3D 数组硬编码每个函数的一个版本，而 Julia 允许我们通过根据需要生成嵌套循环来轻松编写 N 维算法。"
   ]
  },
  {
   "cell_type": "markdown",
   "metadata": {},
   "source": [
    "\n",
    "## 宏用于领域特定语言 (DSL)\n",
    "\n",
    "宏是 Julia 中创建领域特定语言 (DSL) 的强大工具。DSL 允许您为特定问题域定制语法，使代码更具表现力和可读性。\n",
    "\n",
    "通过宏，您可以转换自定义语法到标准的 Julia 代码。这使得为复杂系统（如优化模型、查询语言或并行计算框架）构建直观的接口成为可能。\n",
    "\n",
    "例如，`JuMP.jl` 包使用宏来提供一种代数建模语言，用于定义优化问题，用户可以像写数学公式一样编写模型。\n",
    "\n",
    "```julia\n",
    "using JuMP, GLPK\n",
    "model = Model(GLPK.Optimizer)\n",
    "@variable(model, x >= 0)\n",
    "@variable(model, y >= 0)\n",
    "@objective(model, Min, 12x + 20y)\n",
    "@constraint(model, c1, 6x + 8y >= 100)\n",
    "@constraint(model, c2, 7x + 12y >= 120)\n",
    "print(model) # 打印出数学公式形式的模型\n",
    "optimize!(model)\n",
    "```\n",
    "\n",
    "在这个例子中，`@variable`、`@objective` 和 `@constraint` 都是宏，它们将这种特定领域的语法转换为 JuMP 包可以理解和处理的底层数据结构和函数调用。\n",
    "\n",
    "创建 DSL 通常涉及设计一套宏来解析和转换用户提供的特定语法。这需要仔细考虑用户体验和生成的 Julia 代码的效率。\n"
   ]
  },
  {
   "cell_type": "markdown",
   "metadata": {},
   "source": [
    "\n",
    "## 高级卫生和 `gensym`\n",
    "\n",
    "虽然宏默认是卫生的，并且 `esc` 允许我们有选择地“破坏”卫生性以与调用者作用域交互，但有时我们需要在宏内部创建保证唯一的变量名，而这些变量名不应与用户代码中的任何现有或未来变量冲突，即使在 `esc` 的上下文中也是如此。\n",
    "\n",
    "这就是 `gensym` 函数发挥作用的地方。`gensym`（generate symbol 的缩写）创建一个在当前模块中保证唯一的符号。这在编写复杂的宏时特别有用，这些宏需要在其生成的代码中引入临时变量，并且您希望避免任何意外的名称冲突。\n",
    "\n",
    "```julia\n",
    "macro advanced_hygiene_example()\n",
    "    temp_var = gensym(\"internal_temp\") # 创建一个唯一的符号，例如 :##internal_temp#123\n",
    "    quote\n",
    "        # 使用 esc 来在调用者作用域中操作，但内部变量名是唯一的\n",
    "        $(esc(temp_var)) = \"This is a hygienically generated temporary variable\"\n",
    "        println($(esc(temp_var)))\n",
    "        # 假设我们还想在宏的局部作用域（如果需要）使用它，或者只是为了演示\n",
    "        # local_unique_var = $(esc(temp_var)) # 这行可能没有实际意义，取决于宏的目标\n",
    "    end\n",
    "end\n",
    "\n",
    "# 即使调用者作用域中有名为 internal_temp 的变量，也不会发生冲突\n",
    "internal_temp = \"This is from the caller scope\"\n",
    "@advanced_hygiene_example()\n",
    "println(\"Caller scope internal_temp: \", internal_temp) # 仍然是 \"This is from the caller scope\"\n",
    "\n",
    "# 尝试访问 gensym 创建的变量通常是不直接的，因为它的确切名称是生成的\n",
    "# 例如，你不能直接写 ##internal_temp#123，因为数字后缀是动态的\n",
    "```\n",
    "\n",
    "在上面的例子中：\n",
    "- `gensym(\"internal_temp\")` 创建一个像 `##internal_temp#123` 这样的符号（确切的数字后缀可能会有所不同）。\n",
    "- 即使我们使用 `esc` 将这个 `gensym` 创建的变量赋值给调用者的作用域，它也不会与调用者作用域中可能存在的同名（不带 `##` 和数字后缀）变量冲突。\n",
    "\n",
    "`gensym` 对于编写需要引入许多辅助变量的复杂宏至关重要，同时要保持代码的健壮性并避免名称冲突。\n",
    "\n",
    "与 `esc` 结合使用时，`gensym` 允许宏编写者精确控制哪些标识符是卫生的，哪些与调用者作用域交互，以及如何安全地引入新的、唯一的绑定到生成的代码中。\n"
   ]
  }
 ],
 "metadata": {
  "@webio": {
   "lastCommId": null,
   "lastKernelId": null
  },
  "kernelspec": {
   "display_name": "Julia 1.11.5",
   "language": "julia",
   "name": "julia-1.11"
  },
  "language_info": {
   "file_extension": ".jl",
   "mimetype": "application/julia",
   "name": "julia",
   "version": "1.11.5"
  }
 },
 "nbformat": 4,
 "nbformat_minor": 2
}
